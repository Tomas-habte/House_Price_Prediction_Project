{
 "cells": [
  {
   "cell_type": "code",
   "execution_count": 1,
   "metadata": {},
   "outputs": [],
   "source": [
    "import warnings\n",
    "warnings.filterwarnings('ignore')"
   ]
  },
  {
   "cell_type": "code",
   "execution_count": 2,
   "metadata": {},
   "outputs": [],
   "source": [
    "import numpy as np\n",
    "import pandas as pd\n",
    "from pathlib import Path\n",
    "from collections import Counter\n",
    "from sklearn.metrics import accuracy_score\n",
    "from sklearn.metrics import confusion_matrix\n",
    "from sklearn.linear_model import LinearRegression\n",
    "from sklearn.preprocessing import StandardScaler \n",
    "from sklearn.preprocessing import OneHotEncoder\n",
    "from sklearn.preprocessing import LabelEncoder\n",
    "from sklearn.ensemble import RandomForestRegressor\n",
    "from sklearn.model_selection import train_test_split\n",
    "from sklearn import metrics\n",
    "import matplotlib.pyplot as plt\n",
    "import seaborn as sns\n",
    "from sklearn.neighbors import KNeighborsRegressor"
   ]
  },
  {
   "cell_type": "markdown",
   "metadata": {},
   "source": [
    "# Read the CSV "
   ]
  },
  {
   "cell_type": "markdown",
   "metadata": {},
   "source": [
    "Testing Data"
   ]
  },
  {
   "cell_type": "code",
   "execution_count": 3,
   "metadata": {},
   "outputs": [
    {
     "data": {
      "text/html": [
       "<div>\n",
       "<style scoped>\n",
       "    .dataframe tbody tr th:only-of-type {\n",
       "        vertical-align: middle;\n",
       "    }\n",
       "\n",
       "    .dataframe tbody tr th {\n",
       "        vertical-align: top;\n",
       "    }\n",
       "\n",
       "    .dataframe thead th {\n",
       "        text-align: right;\n",
       "    }\n",
       "</style>\n",
       "<table border=\"1\" class=\"dataframe\">\n",
       "  <thead>\n",
       "    <tr style=\"text-align: right;\">\n",
       "      <th></th>\n",
       "      <th>beds</th>\n",
       "      <th>baths</th>\n",
       "      <th>size</th>\n",
       "      <th>size_units</th>\n",
       "      <th>lot_size</th>\n",
       "      <th>lot_size_units</th>\n",
       "      <th>zip_code</th>\n",
       "      <th>price</th>\n",
       "    </tr>\n",
       "  </thead>\n",
       "  <tbody>\n",
       "    <tr>\n",
       "      <th>0</th>\n",
       "      <td>3</td>\n",
       "      <td>3.0</td>\n",
       "      <td>2850.0</td>\n",
       "      <td>sqft</td>\n",
       "      <td>4200.00</td>\n",
       "      <td>sqft</td>\n",
       "      <td>98119</td>\n",
       "      <td>1175000.0</td>\n",
       "    </tr>\n",
       "    <tr>\n",
       "      <th>1</th>\n",
       "      <td>4</td>\n",
       "      <td>5.0</td>\n",
       "      <td>3040.0</td>\n",
       "      <td>sqft</td>\n",
       "      <td>5002.00</td>\n",
       "      <td>sqft</td>\n",
       "      <td>98106</td>\n",
       "      <td>1057500.0</td>\n",
       "    </tr>\n",
       "    <tr>\n",
       "      <th>2</th>\n",
       "      <td>3</td>\n",
       "      <td>1.0</td>\n",
       "      <td>1290.0</td>\n",
       "      <td>sqft</td>\n",
       "      <td>6048.00</td>\n",
       "      <td>sqft</td>\n",
       "      <td>98125</td>\n",
       "      <td>799000.0</td>\n",
       "    </tr>\n",
       "    <tr>\n",
       "      <th>3</th>\n",
       "      <td>3</td>\n",
       "      <td>2.0</td>\n",
       "      <td>2360.0</td>\n",
       "      <td>sqft</td>\n",
       "      <td>0.28</td>\n",
       "      <td>acre</td>\n",
       "      <td>98188</td>\n",
       "      <td>565000.0</td>\n",
       "    </tr>\n",
       "    <tr>\n",
       "      <th>4</th>\n",
       "      <td>3</td>\n",
       "      <td>3.5</td>\n",
       "      <td>1942.0</td>\n",
       "      <td>sqft</td>\n",
       "      <td>1603.00</td>\n",
       "      <td>sqft</td>\n",
       "      <td>98107</td>\n",
       "      <td>1187000.0</td>\n",
       "    </tr>\n",
       "  </tbody>\n",
       "</table>\n",
       "</div>"
      ],
      "text/plain": [
       "   beds  baths    size size_units  lot_size lot_size_units  zip_code  \\\n",
       "0     3    3.0  2850.0       sqft   4200.00           sqft     98119   \n",
       "1     4    5.0  3040.0       sqft   5002.00           sqft     98106   \n",
       "2     3    1.0  1290.0       sqft   6048.00           sqft     98125   \n",
       "3     3    2.0  2360.0       sqft      0.28           acre     98188   \n",
       "4     3    3.5  1942.0       sqft   1603.00           sqft     98107   \n",
       "\n",
       "       price  \n",
       "0  1175000.0  \n",
       "1  1057500.0  \n",
       "2   799000.0  \n",
       "3   565000.0  \n",
       "4  1187000.0  "
      ]
     },
     "execution_count": 3,
     "metadata": {},
     "output_type": "execute_result"
    }
   ],
   "source": [
    "test_file = \"Resources/raw/test.csv\"\n",
    "test = pd.read_csv(test_file)\n",
    "test_df = pd.DataFrame(test)\n",
    "test_df.head(5)"
   ]
  },
  {
   "cell_type": "code",
   "execution_count": 4,
   "metadata": {},
   "outputs": [
    {
     "data": {
      "text/plain": [
       "beds                int64\n",
       "baths             float64\n",
       "size              float64\n",
       "size_units         object\n",
       "lot_size          float64\n",
       "lot_size_units     object\n",
       "zip_code            int64\n",
       "price             float64\n",
       "dtype: object"
      ]
     },
     "execution_count": 4,
     "metadata": {},
     "output_type": "execute_result"
    }
   ],
   "source": [
    "test_df.dtypes"
   ]
  },
  {
   "cell_type": "code",
   "execution_count": 5,
   "metadata": {},
   "outputs": [
    {
     "data": {
      "text/html": [
       "<div>\n",
       "<style scoped>\n",
       "    .dataframe tbody tr th:only-of-type {\n",
       "        vertical-align: middle;\n",
       "    }\n",
       "\n",
       "    .dataframe tbody tr th {\n",
       "        vertical-align: top;\n",
       "    }\n",
       "\n",
       "    .dataframe thead th {\n",
       "        text-align: right;\n",
       "    }\n",
       "</style>\n",
       "<table border=\"1\" class=\"dataframe\">\n",
       "  <thead>\n",
       "    <tr style=\"text-align: right;\">\n",
       "      <th></th>\n",
       "      <th>zip_code</th>\n",
       "      <th>lat</th>\n",
       "      <th>lon</th>\n",
       "    </tr>\n",
       "  </thead>\n",
       "  <tbody>\n",
       "    <tr>\n",
       "      <th>0</th>\n",
       "      <td>98119</td>\n",
       "      <td>47.6379</td>\n",
       "      <td>-122.3643</td>\n",
       "    </tr>\n",
       "    <tr>\n",
       "      <th>1</th>\n",
       "      <td>98106</td>\n",
       "      <td>47.5344</td>\n",
       "      <td>-122.3547</td>\n",
       "    </tr>\n",
       "    <tr>\n",
       "      <th>2</th>\n",
       "      <td>98125</td>\n",
       "      <td>47.7170</td>\n",
       "      <td>-122.3015</td>\n",
       "    </tr>\n",
       "    <tr>\n",
       "      <th>3</th>\n",
       "      <td>98188</td>\n",
       "      <td>47.4483</td>\n",
       "      <td>-122.2731</td>\n",
       "    </tr>\n",
       "    <tr>\n",
       "      <th>4</th>\n",
       "      <td>98107</td>\n",
       "      <td>47.6701</td>\n",
       "      <td>-122.3763</td>\n",
       "    </tr>\n",
       "  </tbody>\n",
       "</table>\n",
       "</div>"
      ],
      "text/plain": [
       "   zip_code      lat       lon\n",
       "0     98119  47.6379 -122.3643\n",
       "1     98106  47.5344 -122.3547\n",
       "2     98125  47.7170 -122.3015\n",
       "3     98188  47.4483 -122.2731\n",
       "4     98107  47.6701 -122.3763"
      ]
     },
     "execution_count": 5,
     "metadata": {},
     "output_type": "execute_result"
    }
   ],
   "source": [
    "# Using VLOOKUP in Excel, found corresponding coordinates \n",
    "test_coordinates = \"Resources/raw/test_coordinates_only.csv\"\n",
    "test_1 = pd.read_csv(test_coordinates)\n",
    "test_coordinates_df = pd.DataFrame(test_1)\n",
    "test_coordinates_df.head(5)"
   ]
  },
  {
   "cell_type": "code",
   "execution_count": 6,
   "metadata": {},
   "outputs": [
    {
     "data": {
      "text/html": [
       "<div>\n",
       "<style scoped>\n",
       "    .dataframe tbody tr th:only-of-type {\n",
       "        vertical-align: middle;\n",
       "    }\n",
       "\n",
       "    .dataframe tbody tr th {\n",
       "        vertical-align: top;\n",
       "    }\n",
       "\n",
       "    .dataframe thead th {\n",
       "        text-align: right;\n",
       "    }\n",
       "</style>\n",
       "<table border=\"1\" class=\"dataframe\">\n",
       "  <thead>\n",
       "    <tr style=\"text-align: right;\">\n",
       "      <th></th>\n",
       "      <th>beds</th>\n",
       "      <th>baths</th>\n",
       "      <th>size</th>\n",
       "      <th>size_units</th>\n",
       "      <th>lot_size</th>\n",
       "      <th>lot_size_units</th>\n",
       "      <th>zip_code</th>\n",
       "      <th>price</th>\n",
       "      <th>lat</th>\n",
       "      <th>lon</th>\n",
       "    </tr>\n",
       "  </thead>\n",
       "  <tbody>\n",
       "    <tr>\n",
       "      <th>0</th>\n",
       "      <td>3</td>\n",
       "      <td>3.0</td>\n",
       "      <td>2850.0</td>\n",
       "      <td>sqft</td>\n",
       "      <td>4200.00</td>\n",
       "      <td>sqft</td>\n",
       "      <td>98119</td>\n",
       "      <td>1175000.0</td>\n",
       "      <td>47.6379</td>\n",
       "      <td>-122.3643</td>\n",
       "    </tr>\n",
       "    <tr>\n",
       "      <th>1</th>\n",
       "      <td>4</td>\n",
       "      <td>5.0</td>\n",
       "      <td>3040.0</td>\n",
       "      <td>sqft</td>\n",
       "      <td>5002.00</td>\n",
       "      <td>sqft</td>\n",
       "      <td>98106</td>\n",
       "      <td>1057500.0</td>\n",
       "      <td>47.5344</td>\n",
       "      <td>-122.3547</td>\n",
       "    </tr>\n",
       "    <tr>\n",
       "      <th>2</th>\n",
       "      <td>3</td>\n",
       "      <td>1.0</td>\n",
       "      <td>1290.0</td>\n",
       "      <td>sqft</td>\n",
       "      <td>6048.00</td>\n",
       "      <td>sqft</td>\n",
       "      <td>98125</td>\n",
       "      <td>799000.0</td>\n",
       "      <td>47.7170</td>\n",
       "      <td>-122.3015</td>\n",
       "    </tr>\n",
       "    <tr>\n",
       "      <th>3</th>\n",
       "      <td>3</td>\n",
       "      <td>2.0</td>\n",
       "      <td>2360.0</td>\n",
       "      <td>sqft</td>\n",
       "      <td>0.28</td>\n",
       "      <td>acre</td>\n",
       "      <td>98188</td>\n",
       "      <td>565000.0</td>\n",
       "      <td>47.4483</td>\n",
       "      <td>-122.2731</td>\n",
       "    </tr>\n",
       "    <tr>\n",
       "      <th>4</th>\n",
       "      <td>3</td>\n",
       "      <td>3.5</td>\n",
       "      <td>1942.0</td>\n",
       "      <td>sqft</td>\n",
       "      <td>1603.00</td>\n",
       "      <td>sqft</td>\n",
       "      <td>98107</td>\n",
       "      <td>1187000.0</td>\n",
       "      <td>47.6701</td>\n",
       "      <td>-122.3763</td>\n",
       "    </tr>\n",
       "  </tbody>\n",
       "</table>\n",
       "</div>"
      ],
      "text/plain": [
       "   beds  baths    size size_units  lot_size lot_size_units  zip_code  \\\n",
       "0     3    3.0  2850.0       sqft   4200.00           sqft     98119   \n",
       "1     4    5.0  3040.0       sqft   5002.00           sqft     98106   \n",
       "2     3    1.0  1290.0       sqft   6048.00           sqft     98125   \n",
       "3     3    2.0  2360.0       sqft      0.28           acre     98188   \n",
       "4     3    3.5  1942.0       sqft   1603.00           sqft     98107   \n",
       "\n",
       "       price      lat       lon  \n",
       "0  1175000.0  47.6379 -122.3643  \n",
       "1  1057500.0  47.5344 -122.3547  \n",
       "2   799000.0  47.7170 -122.3015  \n",
       "3   565000.0  47.4483 -122.2731  \n",
       "4  1187000.0  47.6701 -122.3763  "
      ]
     },
     "execution_count": 6,
     "metadata": {},
     "output_type": "execute_result"
    }
   ],
   "source": [
    "# Combining coordinates with test file \n",
    "test_file_updated = pd.concat([test_df, test_coordinates_df['lat'],test_coordinates_df['lon']],axis=1)\n",
    "test_file_updated.head(5)"
   ]
  },
  {
   "cell_type": "code",
   "execution_count": 7,
   "metadata": {},
   "outputs": [
    {
     "data": {
      "text/html": [
       "<div>\n",
       "<style scoped>\n",
       "    .dataframe tbody tr th:only-of-type {\n",
       "        vertical-align: middle;\n",
       "    }\n",
       "\n",
       "    .dataframe tbody tr th {\n",
       "        vertical-align: top;\n",
       "    }\n",
       "\n",
       "    .dataframe thead th {\n",
       "        text-align: right;\n",
       "    }\n",
       "</style>\n",
       "<table border=\"1\" class=\"dataframe\">\n",
       "  <thead>\n",
       "    <tr style=\"text-align: right;\">\n",
       "      <th></th>\n",
       "      <th>beds</th>\n",
       "      <th>baths</th>\n",
       "      <th>size</th>\n",
       "      <th>size_units</th>\n",
       "      <th>lot_size</th>\n",
       "      <th>lot_size_units</th>\n",
       "      <th>zip_code</th>\n",
       "      <th>price</th>\n",
       "      <th>lat</th>\n",
       "      <th>lon</th>\n",
       "    </tr>\n",
       "  </thead>\n",
       "  <tbody>\n",
       "    <tr>\n",
       "      <th>0</th>\n",
       "      <td>3</td>\n",
       "      <td>3.0</td>\n",
       "      <td>2850.0</td>\n",
       "      <td>sqft</td>\n",
       "      <td>4200.0</td>\n",
       "      <td>sqft</td>\n",
       "      <td>98119</td>\n",
       "      <td>1175000.0</td>\n",
       "      <td>47.6379</td>\n",
       "      <td>-122.3643</td>\n",
       "    </tr>\n",
       "    <tr>\n",
       "      <th>1</th>\n",
       "      <td>4</td>\n",
       "      <td>5.0</td>\n",
       "      <td>3040.0</td>\n",
       "      <td>sqft</td>\n",
       "      <td>5002.0</td>\n",
       "      <td>sqft</td>\n",
       "      <td>98106</td>\n",
       "      <td>1057500.0</td>\n",
       "      <td>47.5344</td>\n",
       "      <td>-122.3547</td>\n",
       "    </tr>\n",
       "    <tr>\n",
       "      <th>2</th>\n",
       "      <td>3</td>\n",
       "      <td>1.0</td>\n",
       "      <td>1290.0</td>\n",
       "      <td>sqft</td>\n",
       "      <td>6048.0</td>\n",
       "      <td>sqft</td>\n",
       "      <td>98125</td>\n",
       "      <td>799000.0</td>\n",
       "      <td>47.7170</td>\n",
       "      <td>-122.3015</td>\n",
       "    </tr>\n",
       "    <tr>\n",
       "      <th>3</th>\n",
       "      <td>3</td>\n",
       "      <td>2.0</td>\n",
       "      <td>2360.0</td>\n",
       "      <td>sqft</td>\n",
       "      <td>12196.8</td>\n",
       "      <td>acre</td>\n",
       "      <td>98188</td>\n",
       "      <td>565000.0</td>\n",
       "      <td>47.4483</td>\n",
       "      <td>-122.2731</td>\n",
       "    </tr>\n",
       "    <tr>\n",
       "      <th>4</th>\n",
       "      <td>3</td>\n",
       "      <td>3.5</td>\n",
       "      <td>1942.0</td>\n",
       "      <td>sqft</td>\n",
       "      <td>1603.0</td>\n",
       "      <td>sqft</td>\n",
       "      <td>98107</td>\n",
       "      <td>1187000.0</td>\n",
       "      <td>47.6701</td>\n",
       "      <td>-122.3763</td>\n",
       "    </tr>\n",
       "    <tr>\n",
       "      <th>5</th>\n",
       "      <td>2</td>\n",
       "      <td>2.0</td>\n",
       "      <td>963.0</td>\n",
       "      <td>sqft</td>\n",
       "      <td>4753.0</td>\n",
       "      <td>sqft</td>\n",
       "      <td>98122</td>\n",
       "      <td>701000.0</td>\n",
       "      <td>47.6116</td>\n",
       "      <td>-122.3056</td>\n",
       "    </tr>\n",
       "    <tr>\n",
       "      <th>6</th>\n",
       "      <td>1</td>\n",
       "      <td>1.0</td>\n",
       "      <td>756.0</td>\n",
       "      <td>sqft</td>\n",
       "      <td>NaN</td>\n",
       "      <td>NaN</td>\n",
       "      <td>98105</td>\n",
       "      <td>480000.0</td>\n",
       "      <td>47.6633</td>\n",
       "      <td>-122.3022</td>\n",
       "    </tr>\n",
       "    <tr>\n",
       "      <th>7</th>\n",
       "      <td>4</td>\n",
       "      <td>6.0</td>\n",
       "      <td>3300.0</td>\n",
       "      <td>sqft</td>\n",
       "      <td>5810.0</td>\n",
       "      <td>sqft</td>\n",
       "      <td>98199</td>\n",
       "      <td>1795000.0</td>\n",
       "      <td>47.6488</td>\n",
       "      <td>-122.3964</td>\n",
       "    </tr>\n",
       "    <tr>\n",
       "      <th>8</th>\n",
       "      <td>4</td>\n",
       "      <td>2.0</td>\n",
       "      <td>2060.0</td>\n",
       "      <td>sqft</td>\n",
       "      <td>4206.0</td>\n",
       "      <td>sqft</td>\n",
       "      <td>98144</td>\n",
       "      <td>1025000.0</td>\n",
       "      <td>47.5846</td>\n",
       "      <td>-122.3005</td>\n",
       "    </tr>\n",
       "    <tr>\n",
       "      <th>9</th>\n",
       "      <td>1</td>\n",
       "      <td>1.0</td>\n",
       "      <td>672.0</td>\n",
       "      <td>sqft</td>\n",
       "      <td>NaN</td>\n",
       "      <td>NaN</td>\n",
       "      <td>98122</td>\n",
       "      <td>450000.0</td>\n",
       "      <td>47.6116</td>\n",
       "      <td>-122.3056</td>\n",
       "    </tr>\n",
       "  </tbody>\n",
       "</table>\n",
       "</div>"
      ],
      "text/plain": [
       "   beds  baths    size size_units  lot_size lot_size_units  zip_code  \\\n",
       "0     3    3.0  2850.0       sqft    4200.0           sqft     98119   \n",
       "1     4    5.0  3040.0       sqft    5002.0           sqft     98106   \n",
       "2     3    1.0  1290.0       sqft    6048.0           sqft     98125   \n",
       "3     3    2.0  2360.0       sqft   12196.8           acre     98188   \n",
       "4     3    3.5  1942.0       sqft    1603.0           sqft     98107   \n",
       "5     2    2.0   963.0       sqft    4753.0           sqft     98122   \n",
       "6     1    1.0   756.0       sqft       NaN            NaN     98105   \n",
       "7     4    6.0  3300.0       sqft    5810.0           sqft     98199   \n",
       "8     4    2.0  2060.0       sqft    4206.0           sqft     98144   \n",
       "9     1    1.0   672.0       sqft       NaN            NaN     98122   \n",
       "\n",
       "       price      lat       lon  \n",
       "0  1175000.0  47.6379 -122.3643  \n",
       "1  1057500.0  47.5344 -122.3547  \n",
       "2   799000.0  47.7170 -122.3015  \n",
       "3   565000.0  47.4483 -122.2731  \n",
       "4  1187000.0  47.6701 -122.3763  \n",
       "5   701000.0  47.6116 -122.3056  \n",
       "6   480000.0  47.6633 -122.3022  \n",
       "7  1795000.0  47.6488 -122.3964  \n",
       "8  1025000.0  47.5846 -122.3005  \n",
       "9   450000.0  47.6116 -122.3056  "
      ]
     },
     "execution_count": 7,
     "metadata": {},
     "output_type": "execute_result"
    }
   ],
   "source": [
    "# Convert all acres under lot_size_units column to sqft \n",
    "convert_1 = test_file_updated['lot_size_units'] == \"acre\"\n",
    "test_file_updated.loc[convert_1, 'lot_size']*=43560\n",
    "test_file_updated.head(10)"
   ]
  },
  {
   "cell_type": "code",
   "execution_count": 8,
   "metadata": {},
   "outputs": [
    {
     "data": {
      "text/html": [
       "<div>\n",
       "<style scoped>\n",
       "    .dataframe tbody tr th:only-of-type {\n",
       "        vertical-align: middle;\n",
       "    }\n",
       "\n",
       "    .dataframe tbody tr th {\n",
       "        vertical-align: top;\n",
       "    }\n",
       "\n",
       "    .dataframe thead th {\n",
       "        text-align: right;\n",
       "    }\n",
       "</style>\n",
       "<table border=\"1\" class=\"dataframe\">\n",
       "  <thead>\n",
       "    <tr style=\"text-align: right;\">\n",
       "      <th></th>\n",
       "      <th>beds</th>\n",
       "      <th>baths</th>\n",
       "      <th>size</th>\n",
       "      <th>size_units</th>\n",
       "      <th>lot_size</th>\n",
       "      <th>lot_size_units</th>\n",
       "      <th>zip_code</th>\n",
       "      <th>price</th>\n",
       "      <th>lat</th>\n",
       "      <th>lon</th>\n",
       "    </tr>\n",
       "  </thead>\n",
       "  <tbody>\n",
       "    <tr>\n",
       "      <th>0</th>\n",
       "      <td>3</td>\n",
       "      <td>3.0</td>\n",
       "      <td>2850.0</td>\n",
       "      <td>sqft</td>\n",
       "      <td>4200.0</td>\n",
       "      <td>sqft</td>\n",
       "      <td>98119</td>\n",
       "      <td>1175000.0</td>\n",
       "      <td>47.6379</td>\n",
       "      <td>-122.3643</td>\n",
       "    </tr>\n",
       "    <tr>\n",
       "      <th>1</th>\n",
       "      <td>4</td>\n",
       "      <td>5.0</td>\n",
       "      <td>3040.0</td>\n",
       "      <td>sqft</td>\n",
       "      <td>5002.0</td>\n",
       "      <td>sqft</td>\n",
       "      <td>98106</td>\n",
       "      <td>1057500.0</td>\n",
       "      <td>47.5344</td>\n",
       "      <td>-122.3547</td>\n",
       "    </tr>\n",
       "    <tr>\n",
       "      <th>2</th>\n",
       "      <td>3</td>\n",
       "      <td>1.0</td>\n",
       "      <td>1290.0</td>\n",
       "      <td>sqft</td>\n",
       "      <td>6048.0</td>\n",
       "      <td>sqft</td>\n",
       "      <td>98125</td>\n",
       "      <td>799000.0</td>\n",
       "      <td>47.7170</td>\n",
       "      <td>-122.3015</td>\n",
       "    </tr>\n",
       "    <tr>\n",
       "      <th>3</th>\n",
       "      <td>3</td>\n",
       "      <td>2.0</td>\n",
       "      <td>2360.0</td>\n",
       "      <td>sqft</td>\n",
       "      <td>12196.8</td>\n",
       "      <td>sqft</td>\n",
       "      <td>98188</td>\n",
       "      <td>565000.0</td>\n",
       "      <td>47.4483</td>\n",
       "      <td>-122.2731</td>\n",
       "    </tr>\n",
       "    <tr>\n",
       "      <th>4</th>\n",
       "      <td>3</td>\n",
       "      <td>3.5</td>\n",
       "      <td>1942.0</td>\n",
       "      <td>sqft</td>\n",
       "      <td>1603.0</td>\n",
       "      <td>sqft</td>\n",
       "      <td>98107</td>\n",
       "      <td>1187000.0</td>\n",
       "      <td>47.6701</td>\n",
       "      <td>-122.3763</td>\n",
       "    </tr>\n",
       "    <tr>\n",
       "      <th>...</th>\n",
       "      <td>...</td>\n",
       "      <td>...</td>\n",
       "      <td>...</td>\n",
       "      <td>...</td>\n",
       "      <td>...</td>\n",
       "      <td>...</td>\n",
       "      <td>...</td>\n",
       "      <td>...</td>\n",
       "      <td>...</td>\n",
       "      <td>...</td>\n",
       "    </tr>\n",
       "    <tr>\n",
       "      <th>500</th>\n",
       "      <td>5</td>\n",
       "      <td>4.5</td>\n",
       "      <td>5580.0</td>\n",
       "      <td>sqft</td>\n",
       "      <td>13068.0</td>\n",
       "      <td>sqft</td>\n",
       "      <td>98146</td>\n",
       "      <td>3800000.0</td>\n",
       "      <td>47.4995</td>\n",
       "      <td>-122.3603</td>\n",
       "    </tr>\n",
       "    <tr>\n",
       "      <th>501</th>\n",
       "      <td>3</td>\n",
       "      <td>2.5</td>\n",
       "      <td>1390.0</td>\n",
       "      <td>sqft</td>\n",
       "      <td>1570.0</td>\n",
       "      <td>sqft</td>\n",
       "      <td>98126</td>\n",
       "      <td>575000.0</td>\n",
       "      <td>47.5444</td>\n",
       "      <td>-122.3735</td>\n",
       "    </tr>\n",
       "    <tr>\n",
       "      <th>502</th>\n",
       "      <td>3</td>\n",
       "      <td>2.5</td>\n",
       "      <td>2950.0</td>\n",
       "      <td>sqft</td>\n",
       "      <td>20473.2</td>\n",
       "      <td>sqft</td>\n",
       "      <td>98118</td>\n",
       "      <td>3105000.0</td>\n",
       "      <td>47.5412</td>\n",
       "      <td>-122.2750</td>\n",
       "    </tr>\n",
       "    <tr>\n",
       "      <th>503</th>\n",
       "      <td>5</td>\n",
       "      <td>5.0</td>\n",
       "      <td>3010.0</td>\n",
       "      <td>sqft</td>\n",
       "      <td>4887.0</td>\n",
       "      <td>sqft</td>\n",
       "      <td>98115</td>\n",
       "      <td>1807000.0</td>\n",
       "      <td>47.6849</td>\n",
       "      <td>-122.2968</td>\n",
       "    </tr>\n",
       "    <tr>\n",
       "      <th>504</th>\n",
       "      <td>3</td>\n",
       "      <td>2.0</td>\n",
       "      <td>1301.0</td>\n",
       "      <td>sqft</td>\n",
       "      <td>3000.0</td>\n",
       "      <td>sqft</td>\n",
       "      <td>98103</td>\n",
       "      <td>895000.0</td>\n",
       "      <td>47.6733</td>\n",
       "      <td>-122.3426</td>\n",
       "    </tr>\n",
       "  </tbody>\n",
       "</table>\n",
       "<p>505 rows × 10 columns</p>\n",
       "</div>"
      ],
      "text/plain": [
       "     beds  baths    size size_units  lot_size lot_size_units  zip_code  \\\n",
       "0       3    3.0  2850.0       sqft    4200.0           sqft     98119   \n",
       "1       4    5.0  3040.0       sqft    5002.0           sqft     98106   \n",
       "2       3    1.0  1290.0       sqft    6048.0           sqft     98125   \n",
       "3       3    2.0  2360.0       sqft   12196.8           sqft     98188   \n",
       "4       3    3.5  1942.0       sqft    1603.0           sqft     98107   \n",
       "..    ...    ...     ...        ...       ...            ...       ...   \n",
       "500     5    4.5  5580.0       sqft   13068.0           sqft     98146   \n",
       "501     3    2.5  1390.0       sqft    1570.0           sqft     98126   \n",
       "502     3    2.5  2950.0       sqft   20473.2           sqft     98118   \n",
       "503     5    5.0  3010.0       sqft    4887.0           sqft     98115   \n",
       "504     3    2.0  1301.0       sqft    3000.0           sqft     98103   \n",
       "\n",
       "         price      lat       lon  \n",
       "0    1175000.0  47.6379 -122.3643  \n",
       "1    1057500.0  47.5344 -122.3547  \n",
       "2     799000.0  47.7170 -122.3015  \n",
       "3     565000.0  47.4483 -122.2731  \n",
       "4    1187000.0  47.6701 -122.3763  \n",
       "..         ...      ...       ...  \n",
       "500  3800000.0  47.4995 -122.3603  \n",
       "501   575000.0  47.5444 -122.3735  \n",
       "502  3105000.0  47.5412 -122.2750  \n",
       "503  1807000.0  47.6849 -122.2968  \n",
       "504   895000.0  47.6733 -122.3426  \n",
       "\n",
       "[505 rows x 10 columns]"
      ]
     },
     "execution_count": 8,
     "metadata": {},
     "output_type": "execute_result"
    }
   ],
   "source": [
    "# Change all rows under \"lot_size_units\" to \"sqft\"\n",
    "test_file_updated.loc[convert_1, 'lot_size_units']='sqft'\n",
    "test_file_updated"
   ]
  },
  {
   "cell_type": "code",
   "execution_count": 9,
   "metadata": {},
   "outputs": [
    {
     "data": {
      "text/html": [
       "<div>\n",
       "<style scoped>\n",
       "    .dataframe tbody tr th:only-of-type {\n",
       "        vertical-align: middle;\n",
       "    }\n",
       "\n",
       "    .dataframe tbody tr th {\n",
       "        vertical-align: top;\n",
       "    }\n",
       "\n",
       "    .dataframe thead th {\n",
       "        text-align: right;\n",
       "    }\n",
       "</style>\n",
       "<table border=\"1\" class=\"dataframe\">\n",
       "  <thead>\n",
       "    <tr style=\"text-align: right;\">\n",
       "      <th></th>\n",
       "      <th>beds</th>\n",
       "      <th>baths</th>\n",
       "      <th>size</th>\n",
       "      <th>lot_size</th>\n",
       "      <th>zip_code</th>\n",
       "      <th>price</th>\n",
       "      <th>lat</th>\n",
       "      <th>lon</th>\n",
       "    </tr>\n",
       "  </thead>\n",
       "  <tbody>\n",
       "    <tr>\n",
       "      <th>0</th>\n",
       "      <td>3</td>\n",
       "      <td>3.0</td>\n",
       "      <td>2850.0</td>\n",
       "      <td>4200.0</td>\n",
       "      <td>98119</td>\n",
       "      <td>1175000.0</td>\n",
       "      <td>47.6379</td>\n",
       "      <td>-122.3643</td>\n",
       "    </tr>\n",
       "    <tr>\n",
       "      <th>1</th>\n",
       "      <td>4</td>\n",
       "      <td>5.0</td>\n",
       "      <td>3040.0</td>\n",
       "      <td>5002.0</td>\n",
       "      <td>98106</td>\n",
       "      <td>1057500.0</td>\n",
       "      <td>47.5344</td>\n",
       "      <td>-122.3547</td>\n",
       "    </tr>\n",
       "    <tr>\n",
       "      <th>2</th>\n",
       "      <td>3</td>\n",
       "      <td>1.0</td>\n",
       "      <td>1290.0</td>\n",
       "      <td>6048.0</td>\n",
       "      <td>98125</td>\n",
       "      <td>799000.0</td>\n",
       "      <td>47.7170</td>\n",
       "      <td>-122.3015</td>\n",
       "    </tr>\n",
       "    <tr>\n",
       "      <th>3</th>\n",
       "      <td>3</td>\n",
       "      <td>2.0</td>\n",
       "      <td>2360.0</td>\n",
       "      <td>12196.8</td>\n",
       "      <td>98188</td>\n",
       "      <td>565000.0</td>\n",
       "      <td>47.4483</td>\n",
       "      <td>-122.2731</td>\n",
       "    </tr>\n",
       "    <tr>\n",
       "      <th>4</th>\n",
       "      <td>3</td>\n",
       "      <td>3.5</td>\n",
       "      <td>1942.0</td>\n",
       "      <td>1603.0</td>\n",
       "      <td>98107</td>\n",
       "      <td>1187000.0</td>\n",
       "      <td>47.6701</td>\n",
       "      <td>-122.3763</td>\n",
       "    </tr>\n",
       "    <tr>\n",
       "      <th>...</th>\n",
       "      <td>...</td>\n",
       "      <td>...</td>\n",
       "      <td>...</td>\n",
       "      <td>...</td>\n",
       "      <td>...</td>\n",
       "      <td>...</td>\n",
       "      <td>...</td>\n",
       "      <td>...</td>\n",
       "    </tr>\n",
       "    <tr>\n",
       "      <th>500</th>\n",
       "      <td>5</td>\n",
       "      <td>4.5</td>\n",
       "      <td>5580.0</td>\n",
       "      <td>13068.0</td>\n",
       "      <td>98146</td>\n",
       "      <td>3800000.0</td>\n",
       "      <td>47.4995</td>\n",
       "      <td>-122.3603</td>\n",
       "    </tr>\n",
       "    <tr>\n",
       "      <th>501</th>\n",
       "      <td>3</td>\n",
       "      <td>2.5</td>\n",
       "      <td>1390.0</td>\n",
       "      <td>1570.0</td>\n",
       "      <td>98126</td>\n",
       "      <td>575000.0</td>\n",
       "      <td>47.5444</td>\n",
       "      <td>-122.3735</td>\n",
       "    </tr>\n",
       "    <tr>\n",
       "      <th>502</th>\n",
       "      <td>3</td>\n",
       "      <td>2.5</td>\n",
       "      <td>2950.0</td>\n",
       "      <td>20473.2</td>\n",
       "      <td>98118</td>\n",
       "      <td>3105000.0</td>\n",
       "      <td>47.5412</td>\n",
       "      <td>-122.2750</td>\n",
       "    </tr>\n",
       "    <tr>\n",
       "      <th>503</th>\n",
       "      <td>5</td>\n",
       "      <td>5.0</td>\n",
       "      <td>3010.0</td>\n",
       "      <td>4887.0</td>\n",
       "      <td>98115</td>\n",
       "      <td>1807000.0</td>\n",
       "      <td>47.6849</td>\n",
       "      <td>-122.2968</td>\n",
       "    </tr>\n",
       "    <tr>\n",
       "      <th>504</th>\n",
       "      <td>3</td>\n",
       "      <td>2.0</td>\n",
       "      <td>1301.0</td>\n",
       "      <td>3000.0</td>\n",
       "      <td>98103</td>\n",
       "      <td>895000.0</td>\n",
       "      <td>47.6733</td>\n",
       "      <td>-122.3426</td>\n",
       "    </tr>\n",
       "  </tbody>\n",
       "</table>\n",
       "<p>505 rows × 8 columns</p>\n",
       "</div>"
      ],
      "text/plain": [
       "     beds  baths    size  lot_size  zip_code      price      lat       lon\n",
       "0       3    3.0  2850.0    4200.0     98119  1175000.0  47.6379 -122.3643\n",
       "1       4    5.0  3040.0    5002.0     98106  1057500.0  47.5344 -122.3547\n",
       "2       3    1.0  1290.0    6048.0     98125   799000.0  47.7170 -122.3015\n",
       "3       3    2.0  2360.0   12196.8     98188   565000.0  47.4483 -122.2731\n",
       "4       3    3.5  1942.0    1603.0     98107  1187000.0  47.6701 -122.3763\n",
       "..    ...    ...     ...       ...       ...        ...      ...       ...\n",
       "500     5    4.5  5580.0   13068.0     98146  3800000.0  47.4995 -122.3603\n",
       "501     3    2.5  1390.0    1570.0     98126   575000.0  47.5444 -122.3735\n",
       "502     3    2.5  2950.0   20473.2     98118  3105000.0  47.5412 -122.2750\n",
       "503     5    5.0  3010.0    4887.0     98115  1807000.0  47.6849 -122.2968\n",
       "504     3    2.0  1301.0    3000.0     98103   895000.0  47.6733 -122.3426\n",
       "\n",
       "[505 rows x 8 columns]"
      ]
     },
     "execution_count": 9,
     "metadata": {},
     "output_type": "execute_result"
    }
   ],
   "source": [
    "test_file_updated.drop(columns = [\"size_units\", \"lot_size_units\"], inplace = True)\n",
    "test_file_updated"
   ]
  },
  {
   "cell_type": "code",
   "execution_count": 10,
   "metadata": {},
   "outputs": [
    {
     "data": {
      "text/plain": [
       "(428, 8)"
      ]
     },
     "execution_count": 10,
     "metadata": {},
     "output_type": "execute_result"
    }
   ],
   "source": [
    "# Drop the null values\n",
    "test_file_final = test_file_updated.dropna()\n",
    "test_file_final.shape"
   ]
  },
  {
   "cell_type": "code",
   "execution_count": 11,
   "metadata": {},
   "outputs": [],
   "source": [
    "test_file_final.to_csv(\"Resources/Clean/test_clean.csv\", index=False)"
   ]
  },
  {
   "cell_type": "markdown",
   "metadata": {},
   "source": [
    "Training Data"
   ]
  },
  {
   "cell_type": "code",
   "execution_count": 12,
   "metadata": {},
   "outputs": [
    {
     "data": {
      "text/html": [
       "<div>\n",
       "<style scoped>\n",
       "    .dataframe tbody tr th:only-of-type {\n",
       "        vertical-align: middle;\n",
       "    }\n",
       "\n",
       "    .dataframe tbody tr th {\n",
       "        vertical-align: top;\n",
       "    }\n",
       "\n",
       "    .dataframe thead th {\n",
       "        text-align: right;\n",
       "    }\n",
       "</style>\n",
       "<table border=\"1\" class=\"dataframe\">\n",
       "  <thead>\n",
       "    <tr style=\"text-align: right;\">\n",
       "      <th></th>\n",
       "      <th>beds</th>\n",
       "      <th>baths</th>\n",
       "      <th>size</th>\n",
       "      <th>size_units</th>\n",
       "      <th>lot_size</th>\n",
       "      <th>lot_size_units</th>\n",
       "      <th>zip_code</th>\n",
       "      <th>price</th>\n",
       "    </tr>\n",
       "  </thead>\n",
       "  <tbody>\n",
       "    <tr>\n",
       "      <th>0</th>\n",
       "      <td>3</td>\n",
       "      <td>2.5</td>\n",
       "      <td>2590.0</td>\n",
       "      <td>sqft</td>\n",
       "      <td>6000.00</td>\n",
       "      <td>sqft</td>\n",
       "      <td>98144</td>\n",
       "      <td>795000.0</td>\n",
       "    </tr>\n",
       "    <tr>\n",
       "      <th>1</th>\n",
       "      <td>4</td>\n",
       "      <td>2.0</td>\n",
       "      <td>2240.0</td>\n",
       "      <td>sqft</td>\n",
       "      <td>0.31</td>\n",
       "      <td>acre</td>\n",
       "      <td>98106</td>\n",
       "      <td>915000.0</td>\n",
       "    </tr>\n",
       "    <tr>\n",
       "      <th>2</th>\n",
       "      <td>4</td>\n",
       "      <td>3.0</td>\n",
       "      <td>2040.0</td>\n",
       "      <td>sqft</td>\n",
       "      <td>3783.00</td>\n",
       "      <td>sqft</td>\n",
       "      <td>98107</td>\n",
       "      <td>950000.0</td>\n",
       "    </tr>\n",
       "    <tr>\n",
       "      <th>3</th>\n",
       "      <td>4</td>\n",
       "      <td>3.0</td>\n",
       "      <td>3800.0</td>\n",
       "      <td>sqft</td>\n",
       "      <td>5175.00</td>\n",
       "      <td>sqft</td>\n",
       "      <td>98199</td>\n",
       "      <td>1950000.0</td>\n",
       "    </tr>\n",
       "    <tr>\n",
       "      <th>4</th>\n",
       "      <td>2</td>\n",
       "      <td>2.0</td>\n",
       "      <td>1042.0</td>\n",
       "      <td>sqft</td>\n",
       "      <td>NaN</td>\n",
       "      <td>NaN</td>\n",
       "      <td>98102</td>\n",
       "      <td>950000.0</td>\n",
       "    </tr>\n",
       "  </tbody>\n",
       "</table>\n",
       "</div>"
      ],
      "text/plain": [
       "   beds  baths    size size_units  lot_size lot_size_units  zip_code  \\\n",
       "0     3    2.5  2590.0       sqft   6000.00           sqft     98144   \n",
       "1     4    2.0  2240.0       sqft      0.31           acre     98106   \n",
       "2     4    3.0  2040.0       sqft   3783.00           sqft     98107   \n",
       "3     4    3.0  3800.0       sqft   5175.00           sqft     98199   \n",
       "4     2    2.0  1042.0       sqft       NaN            NaN     98102   \n",
       "\n",
       "       price  \n",
       "0   795000.0  \n",
       "1   915000.0  \n",
       "2   950000.0  \n",
       "3  1950000.0  \n",
       "4   950000.0  "
      ]
     },
     "execution_count": 12,
     "metadata": {},
     "output_type": "execute_result"
    }
   ],
   "source": [
    "train_file = \"Resources/raw/train.csv\"\n",
    "train = pd.read_csv(train_file)\n",
    "train_df = pd.DataFrame(train)\n",
    "train_df.head(5)"
   ]
  },
  {
   "cell_type": "code",
   "execution_count": 13,
   "metadata": {},
   "outputs": [
    {
     "data": {
      "text/html": [
       "<div>\n",
       "<style scoped>\n",
       "    .dataframe tbody tr th:only-of-type {\n",
       "        vertical-align: middle;\n",
       "    }\n",
       "\n",
       "    .dataframe tbody tr th {\n",
       "        vertical-align: top;\n",
       "    }\n",
       "\n",
       "    .dataframe thead th {\n",
       "        text-align: right;\n",
       "    }\n",
       "</style>\n",
       "<table border=\"1\" class=\"dataframe\">\n",
       "  <thead>\n",
       "    <tr style=\"text-align: right;\">\n",
       "      <th></th>\n",
       "      <th>zip_code</th>\n",
       "      <th>lat</th>\n",
       "      <th>lon</th>\n",
       "    </tr>\n",
       "  </thead>\n",
       "  <tbody>\n",
       "    <tr>\n",
       "      <th>0</th>\n",
       "      <td>98144</td>\n",
       "      <td>47.5846</td>\n",
       "      <td>-122.3005</td>\n",
       "    </tr>\n",
       "    <tr>\n",
       "      <th>1</th>\n",
       "      <td>98106</td>\n",
       "      <td>47.5344</td>\n",
       "      <td>-122.3547</td>\n",
       "    </tr>\n",
       "    <tr>\n",
       "      <th>2</th>\n",
       "      <td>98107</td>\n",
       "      <td>47.6701</td>\n",
       "      <td>-122.3763</td>\n",
       "    </tr>\n",
       "    <tr>\n",
       "      <th>3</th>\n",
       "      <td>98199</td>\n",
       "      <td>47.6488</td>\n",
       "      <td>-122.3964</td>\n",
       "    </tr>\n",
       "    <tr>\n",
       "      <th>4</th>\n",
       "      <td>98102</td>\n",
       "      <td>47.6302</td>\n",
       "      <td>-122.3210</td>\n",
       "    </tr>\n",
       "  </tbody>\n",
       "</table>\n",
       "</div>"
      ],
      "text/plain": [
       "   zip_code      lat       lon\n",
       "0     98144  47.5846 -122.3005\n",
       "1     98106  47.5344 -122.3547\n",
       "2     98107  47.6701 -122.3763\n",
       "3     98199  47.6488 -122.3964\n",
       "4     98102  47.6302 -122.3210"
      ]
     },
     "execution_count": 13,
     "metadata": {},
     "output_type": "execute_result"
    }
   ],
   "source": [
    "# Using VLOOKUP in Excel, found corresponding coordinates \n",
    "train_coordinates = \"Resources/raw/train_coordinates_only.csv\"\n",
    "train_1 = pd.read_csv(train_coordinates)\n",
    "train_coordinates_df = pd.DataFrame(train_1)\n",
    "train_coordinates_df.head(5)"
   ]
  },
  {
   "cell_type": "code",
   "execution_count": 14,
   "metadata": {},
   "outputs": [
    {
     "data": {
      "text/html": [
       "<div>\n",
       "<style scoped>\n",
       "    .dataframe tbody tr th:only-of-type {\n",
       "        vertical-align: middle;\n",
       "    }\n",
       "\n",
       "    .dataframe tbody tr th {\n",
       "        vertical-align: top;\n",
       "    }\n",
       "\n",
       "    .dataframe thead th {\n",
       "        text-align: right;\n",
       "    }\n",
       "</style>\n",
       "<table border=\"1\" class=\"dataframe\">\n",
       "  <thead>\n",
       "    <tr style=\"text-align: right;\">\n",
       "      <th></th>\n",
       "      <th>beds</th>\n",
       "      <th>baths</th>\n",
       "      <th>size</th>\n",
       "      <th>size_units</th>\n",
       "      <th>lot_size</th>\n",
       "      <th>lot_size_units</th>\n",
       "      <th>zip_code</th>\n",
       "      <th>price</th>\n",
       "      <th>lat</th>\n",
       "      <th>lon</th>\n",
       "    </tr>\n",
       "  </thead>\n",
       "  <tbody>\n",
       "    <tr>\n",
       "      <th>0</th>\n",
       "      <td>3</td>\n",
       "      <td>2.5</td>\n",
       "      <td>2590.0</td>\n",
       "      <td>sqft</td>\n",
       "      <td>6000.00</td>\n",
       "      <td>sqft</td>\n",
       "      <td>98144</td>\n",
       "      <td>795000.0</td>\n",
       "      <td>47.5846</td>\n",
       "      <td>-122.3005</td>\n",
       "    </tr>\n",
       "    <tr>\n",
       "      <th>1</th>\n",
       "      <td>4</td>\n",
       "      <td>2.0</td>\n",
       "      <td>2240.0</td>\n",
       "      <td>sqft</td>\n",
       "      <td>0.31</td>\n",
       "      <td>acre</td>\n",
       "      <td>98106</td>\n",
       "      <td>915000.0</td>\n",
       "      <td>47.5344</td>\n",
       "      <td>-122.3547</td>\n",
       "    </tr>\n",
       "    <tr>\n",
       "      <th>2</th>\n",
       "      <td>4</td>\n",
       "      <td>3.0</td>\n",
       "      <td>2040.0</td>\n",
       "      <td>sqft</td>\n",
       "      <td>3783.00</td>\n",
       "      <td>sqft</td>\n",
       "      <td>98107</td>\n",
       "      <td>950000.0</td>\n",
       "      <td>47.6701</td>\n",
       "      <td>-122.3763</td>\n",
       "    </tr>\n",
       "    <tr>\n",
       "      <th>3</th>\n",
       "      <td>4</td>\n",
       "      <td>3.0</td>\n",
       "      <td>3800.0</td>\n",
       "      <td>sqft</td>\n",
       "      <td>5175.00</td>\n",
       "      <td>sqft</td>\n",
       "      <td>98199</td>\n",
       "      <td>1950000.0</td>\n",
       "      <td>47.6488</td>\n",
       "      <td>-122.3964</td>\n",
       "    </tr>\n",
       "    <tr>\n",
       "      <th>4</th>\n",
       "      <td>2</td>\n",
       "      <td>2.0</td>\n",
       "      <td>1042.0</td>\n",
       "      <td>sqft</td>\n",
       "      <td>NaN</td>\n",
       "      <td>NaN</td>\n",
       "      <td>98102</td>\n",
       "      <td>950000.0</td>\n",
       "      <td>47.6302</td>\n",
       "      <td>-122.3210</td>\n",
       "    </tr>\n",
       "  </tbody>\n",
       "</table>\n",
       "</div>"
      ],
      "text/plain": [
       "   beds  baths    size size_units  lot_size lot_size_units  zip_code  \\\n",
       "0     3    2.5  2590.0       sqft   6000.00           sqft     98144   \n",
       "1     4    2.0  2240.0       sqft      0.31           acre     98106   \n",
       "2     4    3.0  2040.0       sqft   3783.00           sqft     98107   \n",
       "3     4    3.0  3800.0       sqft   5175.00           sqft     98199   \n",
       "4     2    2.0  1042.0       sqft       NaN            NaN     98102   \n",
       "\n",
       "       price      lat       lon  \n",
       "0   795000.0  47.5846 -122.3005  \n",
       "1   915000.0  47.5344 -122.3547  \n",
       "2   950000.0  47.6701 -122.3763  \n",
       "3  1950000.0  47.6488 -122.3964  \n",
       "4   950000.0  47.6302 -122.3210  "
      ]
     },
     "execution_count": 14,
     "metadata": {},
     "output_type": "execute_result"
    }
   ],
   "source": [
    "# Combining coordinates with train file \n",
    "train_file_updated = pd.concat([train_df, train_coordinates_df['lat'],train_coordinates_df['lon']],axis=1)\n",
    "train_file_updated.head(5)"
   ]
  },
  {
   "cell_type": "code",
   "execution_count": 15,
   "metadata": {},
   "outputs": [
    {
     "data": {
      "text/html": [
       "<div>\n",
       "<style scoped>\n",
       "    .dataframe tbody tr th:only-of-type {\n",
       "        vertical-align: middle;\n",
       "    }\n",
       "\n",
       "    .dataframe tbody tr th {\n",
       "        vertical-align: top;\n",
       "    }\n",
       "\n",
       "    .dataframe thead th {\n",
       "        text-align: right;\n",
       "    }\n",
       "</style>\n",
       "<table border=\"1\" class=\"dataframe\">\n",
       "  <thead>\n",
       "    <tr style=\"text-align: right;\">\n",
       "      <th></th>\n",
       "      <th>beds</th>\n",
       "      <th>baths</th>\n",
       "      <th>size</th>\n",
       "      <th>size_units</th>\n",
       "      <th>lot_size</th>\n",
       "      <th>lot_size_units</th>\n",
       "      <th>zip_code</th>\n",
       "      <th>price</th>\n",
       "      <th>lat</th>\n",
       "      <th>lon</th>\n",
       "    </tr>\n",
       "  </thead>\n",
       "  <tbody>\n",
       "    <tr>\n",
       "      <th>0</th>\n",
       "      <td>3</td>\n",
       "      <td>2.5</td>\n",
       "      <td>2590.0</td>\n",
       "      <td>sqft</td>\n",
       "      <td>6000.0</td>\n",
       "      <td>sqft</td>\n",
       "      <td>98144</td>\n",
       "      <td>795000.0</td>\n",
       "      <td>47.5846</td>\n",
       "      <td>-122.3005</td>\n",
       "    </tr>\n",
       "    <tr>\n",
       "      <th>1</th>\n",
       "      <td>4</td>\n",
       "      <td>2.0</td>\n",
       "      <td>2240.0</td>\n",
       "      <td>sqft</td>\n",
       "      <td>13503.6</td>\n",
       "      <td>acre</td>\n",
       "      <td>98106</td>\n",
       "      <td>915000.0</td>\n",
       "      <td>47.5344</td>\n",
       "      <td>-122.3547</td>\n",
       "    </tr>\n",
       "    <tr>\n",
       "      <th>2</th>\n",
       "      <td>4</td>\n",
       "      <td>3.0</td>\n",
       "      <td>2040.0</td>\n",
       "      <td>sqft</td>\n",
       "      <td>3783.0</td>\n",
       "      <td>sqft</td>\n",
       "      <td>98107</td>\n",
       "      <td>950000.0</td>\n",
       "      <td>47.6701</td>\n",
       "      <td>-122.3763</td>\n",
       "    </tr>\n",
       "    <tr>\n",
       "      <th>3</th>\n",
       "      <td>4</td>\n",
       "      <td>3.0</td>\n",
       "      <td>3800.0</td>\n",
       "      <td>sqft</td>\n",
       "      <td>5175.0</td>\n",
       "      <td>sqft</td>\n",
       "      <td>98199</td>\n",
       "      <td>1950000.0</td>\n",
       "      <td>47.6488</td>\n",
       "      <td>-122.3964</td>\n",
       "    </tr>\n",
       "    <tr>\n",
       "      <th>4</th>\n",
       "      <td>2</td>\n",
       "      <td>2.0</td>\n",
       "      <td>1042.0</td>\n",
       "      <td>sqft</td>\n",
       "      <td>NaN</td>\n",
       "      <td>NaN</td>\n",
       "      <td>98102</td>\n",
       "      <td>950000.0</td>\n",
       "      <td>47.6302</td>\n",
       "      <td>-122.3210</td>\n",
       "    </tr>\n",
       "    <tr>\n",
       "      <th>5</th>\n",
       "      <td>2</td>\n",
       "      <td>2.0</td>\n",
       "      <td>1190.0</td>\n",
       "      <td>sqft</td>\n",
       "      <td>43560.0</td>\n",
       "      <td>acre</td>\n",
       "      <td>98107</td>\n",
       "      <td>740000.0</td>\n",
       "      <td>47.6701</td>\n",
       "      <td>-122.3763</td>\n",
       "    </tr>\n",
       "    <tr>\n",
       "      <th>6</th>\n",
       "      <td>1</td>\n",
       "      <td>1.0</td>\n",
       "      <td>670.0</td>\n",
       "      <td>sqft</td>\n",
       "      <td>6000.0</td>\n",
       "      <td>sqft</td>\n",
       "      <td>98133</td>\n",
       "      <td>460000.0</td>\n",
       "      <td>47.7377</td>\n",
       "      <td>-122.3431</td>\n",
       "    </tr>\n",
       "    <tr>\n",
       "      <th>7</th>\n",
       "      <td>5</td>\n",
       "      <td>3.5</td>\n",
       "      <td>4510.0</td>\n",
       "      <td>sqft</td>\n",
       "      <td>6000.0</td>\n",
       "      <td>sqft</td>\n",
       "      <td>98105</td>\n",
       "      <td>3150000.0</td>\n",
       "      <td>47.6633</td>\n",
       "      <td>-122.3022</td>\n",
       "    </tr>\n",
       "    <tr>\n",
       "      <th>8</th>\n",
       "      <td>3</td>\n",
       "      <td>2.5</td>\n",
       "      <td>1520.0</td>\n",
       "      <td>sqft</td>\n",
       "      <td>741.0</td>\n",
       "      <td>sqft</td>\n",
       "      <td>98108</td>\n",
       "      <td>565000.0</td>\n",
       "      <td>47.5413</td>\n",
       "      <td>-122.3129</td>\n",
       "    </tr>\n",
       "    <tr>\n",
       "      <th>9</th>\n",
       "      <td>4</td>\n",
       "      <td>2.0</td>\n",
       "      <td>2340.0</td>\n",
       "      <td>sqft</td>\n",
       "      <td>9500.0</td>\n",
       "      <td>sqft</td>\n",
       "      <td>98178</td>\n",
       "      <td>699000.0</td>\n",
       "      <td>47.4924</td>\n",
       "      <td>-122.2359</td>\n",
       "    </tr>\n",
       "  </tbody>\n",
       "</table>\n",
       "</div>"
      ],
      "text/plain": [
       "   beds  baths    size size_units  lot_size lot_size_units  zip_code  \\\n",
       "0     3    2.5  2590.0       sqft    6000.0           sqft     98144   \n",
       "1     4    2.0  2240.0       sqft   13503.6           acre     98106   \n",
       "2     4    3.0  2040.0       sqft    3783.0           sqft     98107   \n",
       "3     4    3.0  3800.0       sqft    5175.0           sqft     98199   \n",
       "4     2    2.0  1042.0       sqft       NaN            NaN     98102   \n",
       "5     2    2.0  1190.0       sqft   43560.0           acre     98107   \n",
       "6     1    1.0   670.0       sqft    6000.0           sqft     98133   \n",
       "7     5    3.5  4510.0       sqft    6000.0           sqft     98105   \n",
       "8     3    2.5  1520.0       sqft     741.0           sqft     98108   \n",
       "9     4    2.0  2340.0       sqft    9500.0           sqft     98178   \n",
       "\n",
       "       price      lat       lon  \n",
       "0   795000.0  47.5846 -122.3005  \n",
       "1   915000.0  47.5344 -122.3547  \n",
       "2   950000.0  47.6701 -122.3763  \n",
       "3  1950000.0  47.6488 -122.3964  \n",
       "4   950000.0  47.6302 -122.3210  \n",
       "5   740000.0  47.6701 -122.3763  \n",
       "6   460000.0  47.7377 -122.3431  \n",
       "7  3150000.0  47.6633 -122.3022  \n",
       "8   565000.0  47.5413 -122.3129  \n",
       "9   699000.0  47.4924 -122.2359  "
      ]
     },
     "execution_count": 15,
     "metadata": {},
     "output_type": "execute_result"
    }
   ],
   "source": [
    "# Convert all acres under lot_size_units column to sqft \n",
    "convert_2 = train_file_updated['lot_size_units'] == \"acre\"\n",
    "train_file_updated.loc[convert_2, 'lot_size']*=43560\n",
    "train_file_updated.head(10)"
   ]
  },
  {
   "cell_type": "code",
   "execution_count": 16,
   "metadata": {},
   "outputs": [
    {
     "data": {
      "text/html": [
       "<div>\n",
       "<style scoped>\n",
       "    .dataframe tbody tr th:only-of-type {\n",
       "        vertical-align: middle;\n",
       "    }\n",
       "\n",
       "    .dataframe tbody tr th {\n",
       "        vertical-align: top;\n",
       "    }\n",
       "\n",
       "    .dataframe thead th {\n",
       "        text-align: right;\n",
       "    }\n",
       "</style>\n",
       "<table border=\"1\" class=\"dataframe\">\n",
       "  <thead>\n",
       "    <tr style=\"text-align: right;\">\n",
       "      <th></th>\n",
       "      <th>beds</th>\n",
       "      <th>baths</th>\n",
       "      <th>size</th>\n",
       "      <th>size_units</th>\n",
       "      <th>lot_size</th>\n",
       "      <th>lot_size_units</th>\n",
       "      <th>zip_code</th>\n",
       "      <th>price</th>\n",
       "      <th>lat</th>\n",
       "      <th>lon</th>\n",
       "    </tr>\n",
       "  </thead>\n",
       "  <tbody>\n",
       "    <tr>\n",
       "      <th>0</th>\n",
       "      <td>3</td>\n",
       "      <td>2.5</td>\n",
       "      <td>2590.0</td>\n",
       "      <td>sqft</td>\n",
       "      <td>6000.0</td>\n",
       "      <td>sqft</td>\n",
       "      <td>98144</td>\n",
       "      <td>795000.0</td>\n",
       "      <td>47.5846</td>\n",
       "      <td>-122.3005</td>\n",
       "    </tr>\n",
       "    <tr>\n",
       "      <th>1</th>\n",
       "      <td>4</td>\n",
       "      <td>2.0</td>\n",
       "      <td>2240.0</td>\n",
       "      <td>sqft</td>\n",
       "      <td>13503.6</td>\n",
       "      <td>sqft</td>\n",
       "      <td>98106</td>\n",
       "      <td>915000.0</td>\n",
       "      <td>47.5344</td>\n",
       "      <td>-122.3547</td>\n",
       "    </tr>\n",
       "    <tr>\n",
       "      <th>2</th>\n",
       "      <td>4</td>\n",
       "      <td>3.0</td>\n",
       "      <td>2040.0</td>\n",
       "      <td>sqft</td>\n",
       "      <td>3783.0</td>\n",
       "      <td>sqft</td>\n",
       "      <td>98107</td>\n",
       "      <td>950000.0</td>\n",
       "      <td>47.6701</td>\n",
       "      <td>-122.3763</td>\n",
       "    </tr>\n",
       "    <tr>\n",
       "      <th>3</th>\n",
       "      <td>4</td>\n",
       "      <td>3.0</td>\n",
       "      <td>3800.0</td>\n",
       "      <td>sqft</td>\n",
       "      <td>5175.0</td>\n",
       "      <td>sqft</td>\n",
       "      <td>98199</td>\n",
       "      <td>1950000.0</td>\n",
       "      <td>47.6488</td>\n",
       "      <td>-122.3964</td>\n",
       "    </tr>\n",
       "    <tr>\n",
       "      <th>4</th>\n",
       "      <td>2</td>\n",
       "      <td>2.0</td>\n",
       "      <td>1042.0</td>\n",
       "      <td>sqft</td>\n",
       "      <td>NaN</td>\n",
       "      <td>NaN</td>\n",
       "      <td>98102</td>\n",
       "      <td>950000.0</td>\n",
       "      <td>47.6302</td>\n",
       "      <td>-122.3210</td>\n",
       "    </tr>\n",
       "    <tr>\n",
       "      <th>...</th>\n",
       "      <td>...</td>\n",
       "      <td>...</td>\n",
       "      <td>...</td>\n",
       "      <td>...</td>\n",
       "      <td>...</td>\n",
       "      <td>...</td>\n",
       "      <td>...</td>\n",
       "      <td>...</td>\n",
       "      <td>...</td>\n",
       "      <td>...</td>\n",
       "    </tr>\n",
       "    <tr>\n",
       "      <th>2011</th>\n",
       "      <td>3</td>\n",
       "      <td>2.0</td>\n",
       "      <td>1370.0</td>\n",
       "      <td>sqft</td>\n",
       "      <td>21780.0</td>\n",
       "      <td>sqft</td>\n",
       "      <td>98112</td>\n",
       "      <td>910000.0</td>\n",
       "      <td>47.6301</td>\n",
       "      <td>-122.2972</td>\n",
       "    </tr>\n",
       "    <tr>\n",
       "      <th>2012</th>\n",
       "      <td>1</td>\n",
       "      <td>1.0</td>\n",
       "      <td>889.0</td>\n",
       "      <td>sqft</td>\n",
       "      <td>NaN</td>\n",
       "      <td>NaN</td>\n",
       "      <td>98121</td>\n",
       "      <td>550000.0</td>\n",
       "      <td>47.6151</td>\n",
       "      <td>-122.3447</td>\n",
       "    </tr>\n",
       "    <tr>\n",
       "      <th>2013</th>\n",
       "      <td>4</td>\n",
       "      <td>2.0</td>\n",
       "      <td>2140.0</td>\n",
       "      <td>sqft</td>\n",
       "      <td>6250.0</td>\n",
       "      <td>sqft</td>\n",
       "      <td>98199</td>\n",
       "      <td>1150000.0</td>\n",
       "      <td>47.6488</td>\n",
       "      <td>-122.3964</td>\n",
       "    </tr>\n",
       "    <tr>\n",
       "      <th>2014</th>\n",
       "      <td>2</td>\n",
       "      <td>2.0</td>\n",
       "      <td>795.0</td>\n",
       "      <td>sqft</td>\n",
       "      <td>NaN</td>\n",
       "      <td>NaN</td>\n",
       "      <td>98103</td>\n",
       "      <td>590000.0</td>\n",
       "      <td>47.6733</td>\n",
       "      <td>-122.3426</td>\n",
       "    </tr>\n",
       "    <tr>\n",
       "      <th>2015</th>\n",
       "      <td>3</td>\n",
       "      <td>2.0</td>\n",
       "      <td>1710.0</td>\n",
       "      <td>sqft</td>\n",
       "      <td>4267.0</td>\n",
       "      <td>sqft</td>\n",
       "      <td>98133</td>\n",
       "      <td>659000.0</td>\n",
       "      <td>47.7377</td>\n",
       "      <td>-122.3431</td>\n",
       "    </tr>\n",
       "  </tbody>\n",
       "</table>\n",
       "<p>2016 rows × 10 columns</p>\n",
       "</div>"
      ],
      "text/plain": [
       "      beds  baths    size size_units  lot_size lot_size_units  zip_code  \\\n",
       "0        3    2.5  2590.0       sqft    6000.0           sqft     98144   \n",
       "1        4    2.0  2240.0       sqft   13503.6           sqft     98106   \n",
       "2        4    3.0  2040.0       sqft    3783.0           sqft     98107   \n",
       "3        4    3.0  3800.0       sqft    5175.0           sqft     98199   \n",
       "4        2    2.0  1042.0       sqft       NaN            NaN     98102   \n",
       "...    ...    ...     ...        ...       ...            ...       ...   \n",
       "2011     3    2.0  1370.0       sqft   21780.0           sqft     98112   \n",
       "2012     1    1.0   889.0       sqft       NaN            NaN     98121   \n",
       "2013     4    2.0  2140.0       sqft    6250.0           sqft     98199   \n",
       "2014     2    2.0   795.0       sqft       NaN            NaN     98103   \n",
       "2015     3    2.0  1710.0       sqft    4267.0           sqft     98133   \n",
       "\n",
       "          price      lat       lon  \n",
       "0      795000.0  47.5846 -122.3005  \n",
       "1      915000.0  47.5344 -122.3547  \n",
       "2      950000.0  47.6701 -122.3763  \n",
       "3     1950000.0  47.6488 -122.3964  \n",
       "4      950000.0  47.6302 -122.3210  \n",
       "...         ...      ...       ...  \n",
       "2011   910000.0  47.6301 -122.2972  \n",
       "2012   550000.0  47.6151 -122.3447  \n",
       "2013  1150000.0  47.6488 -122.3964  \n",
       "2014   590000.0  47.6733 -122.3426  \n",
       "2015   659000.0  47.7377 -122.3431  \n",
       "\n",
       "[2016 rows x 10 columns]"
      ]
     },
     "execution_count": 16,
     "metadata": {},
     "output_type": "execute_result"
    }
   ],
   "source": [
    "# Change all rows under \"lot_size_units\" to \"sqft\"\n",
    "train_file_updated.loc[convert_2, 'lot_size_units']='sqft'\n",
    "train_file_updated"
   ]
  },
  {
   "cell_type": "code",
   "execution_count": 17,
   "metadata": {},
   "outputs": [
    {
     "data": {
      "text/html": [
       "<div>\n",
       "<style scoped>\n",
       "    .dataframe tbody tr th:only-of-type {\n",
       "        vertical-align: middle;\n",
       "    }\n",
       "\n",
       "    .dataframe tbody tr th {\n",
       "        vertical-align: top;\n",
       "    }\n",
       "\n",
       "    .dataframe thead th {\n",
       "        text-align: right;\n",
       "    }\n",
       "</style>\n",
       "<table border=\"1\" class=\"dataframe\">\n",
       "  <thead>\n",
       "    <tr style=\"text-align: right;\">\n",
       "      <th></th>\n",
       "      <th>beds</th>\n",
       "      <th>baths</th>\n",
       "      <th>size</th>\n",
       "      <th>lot_size</th>\n",
       "      <th>zip_code</th>\n",
       "      <th>price</th>\n",
       "      <th>lat</th>\n",
       "      <th>lon</th>\n",
       "    </tr>\n",
       "  </thead>\n",
       "  <tbody>\n",
       "    <tr>\n",
       "      <th>0</th>\n",
       "      <td>3</td>\n",
       "      <td>2.5</td>\n",
       "      <td>2590.0</td>\n",
       "      <td>6000.0</td>\n",
       "      <td>98144</td>\n",
       "      <td>795000.0</td>\n",
       "      <td>47.5846</td>\n",
       "      <td>-122.3005</td>\n",
       "    </tr>\n",
       "    <tr>\n",
       "      <th>1</th>\n",
       "      <td>4</td>\n",
       "      <td>2.0</td>\n",
       "      <td>2240.0</td>\n",
       "      <td>13503.6</td>\n",
       "      <td>98106</td>\n",
       "      <td>915000.0</td>\n",
       "      <td>47.5344</td>\n",
       "      <td>-122.3547</td>\n",
       "    </tr>\n",
       "    <tr>\n",
       "      <th>2</th>\n",
       "      <td>4</td>\n",
       "      <td>3.0</td>\n",
       "      <td>2040.0</td>\n",
       "      <td>3783.0</td>\n",
       "      <td>98107</td>\n",
       "      <td>950000.0</td>\n",
       "      <td>47.6701</td>\n",
       "      <td>-122.3763</td>\n",
       "    </tr>\n",
       "    <tr>\n",
       "      <th>3</th>\n",
       "      <td>4</td>\n",
       "      <td>3.0</td>\n",
       "      <td>3800.0</td>\n",
       "      <td>5175.0</td>\n",
       "      <td>98199</td>\n",
       "      <td>1950000.0</td>\n",
       "      <td>47.6488</td>\n",
       "      <td>-122.3964</td>\n",
       "    </tr>\n",
       "    <tr>\n",
       "      <th>4</th>\n",
       "      <td>2</td>\n",
       "      <td>2.0</td>\n",
       "      <td>1042.0</td>\n",
       "      <td>NaN</td>\n",
       "      <td>98102</td>\n",
       "      <td>950000.0</td>\n",
       "      <td>47.6302</td>\n",
       "      <td>-122.3210</td>\n",
       "    </tr>\n",
       "    <tr>\n",
       "      <th>...</th>\n",
       "      <td>...</td>\n",
       "      <td>...</td>\n",
       "      <td>...</td>\n",
       "      <td>...</td>\n",
       "      <td>...</td>\n",
       "      <td>...</td>\n",
       "      <td>...</td>\n",
       "      <td>...</td>\n",
       "    </tr>\n",
       "    <tr>\n",
       "      <th>2011</th>\n",
       "      <td>3</td>\n",
       "      <td>2.0</td>\n",
       "      <td>1370.0</td>\n",
       "      <td>21780.0</td>\n",
       "      <td>98112</td>\n",
       "      <td>910000.0</td>\n",
       "      <td>47.6301</td>\n",
       "      <td>-122.2972</td>\n",
       "    </tr>\n",
       "    <tr>\n",
       "      <th>2012</th>\n",
       "      <td>1</td>\n",
       "      <td>1.0</td>\n",
       "      <td>889.0</td>\n",
       "      <td>NaN</td>\n",
       "      <td>98121</td>\n",
       "      <td>550000.0</td>\n",
       "      <td>47.6151</td>\n",
       "      <td>-122.3447</td>\n",
       "    </tr>\n",
       "    <tr>\n",
       "      <th>2013</th>\n",
       "      <td>4</td>\n",
       "      <td>2.0</td>\n",
       "      <td>2140.0</td>\n",
       "      <td>6250.0</td>\n",
       "      <td>98199</td>\n",
       "      <td>1150000.0</td>\n",
       "      <td>47.6488</td>\n",
       "      <td>-122.3964</td>\n",
       "    </tr>\n",
       "    <tr>\n",
       "      <th>2014</th>\n",
       "      <td>2</td>\n",
       "      <td>2.0</td>\n",
       "      <td>795.0</td>\n",
       "      <td>NaN</td>\n",
       "      <td>98103</td>\n",
       "      <td>590000.0</td>\n",
       "      <td>47.6733</td>\n",
       "      <td>-122.3426</td>\n",
       "    </tr>\n",
       "    <tr>\n",
       "      <th>2015</th>\n",
       "      <td>3</td>\n",
       "      <td>2.0</td>\n",
       "      <td>1710.0</td>\n",
       "      <td>4267.0</td>\n",
       "      <td>98133</td>\n",
       "      <td>659000.0</td>\n",
       "      <td>47.7377</td>\n",
       "      <td>-122.3431</td>\n",
       "    </tr>\n",
       "  </tbody>\n",
       "</table>\n",
       "<p>2016 rows × 8 columns</p>\n",
       "</div>"
      ],
      "text/plain": [
       "      beds  baths    size  lot_size  zip_code      price      lat       lon\n",
       "0        3    2.5  2590.0    6000.0     98144   795000.0  47.5846 -122.3005\n",
       "1        4    2.0  2240.0   13503.6     98106   915000.0  47.5344 -122.3547\n",
       "2        4    3.0  2040.0    3783.0     98107   950000.0  47.6701 -122.3763\n",
       "3        4    3.0  3800.0    5175.0     98199  1950000.0  47.6488 -122.3964\n",
       "4        2    2.0  1042.0       NaN     98102   950000.0  47.6302 -122.3210\n",
       "...    ...    ...     ...       ...       ...        ...      ...       ...\n",
       "2011     3    2.0  1370.0   21780.0     98112   910000.0  47.6301 -122.2972\n",
       "2012     1    1.0   889.0       NaN     98121   550000.0  47.6151 -122.3447\n",
       "2013     4    2.0  2140.0    6250.0     98199  1150000.0  47.6488 -122.3964\n",
       "2014     2    2.0   795.0       NaN     98103   590000.0  47.6733 -122.3426\n",
       "2015     3    2.0  1710.0    4267.0     98133   659000.0  47.7377 -122.3431\n",
       "\n",
       "[2016 rows x 8 columns]"
      ]
     },
     "execution_count": 17,
     "metadata": {},
     "output_type": "execute_result"
    }
   ],
   "source": [
    "train_file_updated.drop(columns = [\"size_units\", \"lot_size_units\"], inplace = True)\n",
    "train_file_updated"
   ]
  },
  {
   "cell_type": "code",
   "execution_count": 18,
   "metadata": {},
   "outputs": [
    {
     "data": {
      "text/plain": [
       "(1669, 8)"
      ]
     },
     "execution_count": 18,
     "metadata": {},
     "output_type": "execute_result"
    }
   ],
   "source": [
    "#Drop the null values\n",
    "train_file_final = train_file_updated.dropna()\n",
    "train_file_final.shape"
   ]
  },
  {
   "cell_type": "code",
   "execution_count": 19,
   "metadata": {},
   "outputs": [],
   "source": [
    "train_file_final.to_csv(\"Resources/Clean/train_clean.csv\", index=False)"
   ]
  },
  {
   "cell_type": "code",
   "execution_count": 20,
   "metadata": {},
   "outputs": [
    {
     "data": {
      "text/html": [
       "<div>\n",
       "<style scoped>\n",
       "    .dataframe tbody tr th:only-of-type {\n",
       "        vertical-align: middle;\n",
       "    }\n",
       "\n",
       "    .dataframe tbody tr th {\n",
       "        vertical-align: top;\n",
       "    }\n",
       "\n",
       "    .dataframe thead th {\n",
       "        text-align: right;\n",
       "    }\n",
       "</style>\n",
       "<table border=\"1\" class=\"dataframe\">\n",
       "  <thead>\n",
       "    <tr style=\"text-align: right;\">\n",
       "      <th></th>\n",
       "      <th>beds</th>\n",
       "      <th>baths</th>\n",
       "      <th>size</th>\n",
       "      <th>lot_size</th>\n",
       "      <th>zip_code</th>\n",
       "      <th>price</th>\n",
       "      <th>lat</th>\n",
       "      <th>lon</th>\n",
       "    </tr>\n",
       "  </thead>\n",
       "  <tbody>\n",
       "    <tr>\n",
       "      <th>0</th>\n",
       "      <td>3</td>\n",
       "      <td>2.5</td>\n",
       "      <td>2590.0</td>\n",
       "      <td>6000.0</td>\n",
       "      <td>98144</td>\n",
       "      <td>795000.0</td>\n",
       "      <td>47.5846</td>\n",
       "      <td>-122.3005</td>\n",
       "    </tr>\n",
       "    <tr>\n",
       "      <th>1</th>\n",
       "      <td>4</td>\n",
       "      <td>2.0</td>\n",
       "      <td>2240.0</td>\n",
       "      <td>13503.6</td>\n",
       "      <td>98106</td>\n",
       "      <td>915000.0</td>\n",
       "      <td>47.5344</td>\n",
       "      <td>-122.3547</td>\n",
       "    </tr>\n",
       "    <tr>\n",
       "      <th>2</th>\n",
       "      <td>4</td>\n",
       "      <td>3.0</td>\n",
       "      <td>2040.0</td>\n",
       "      <td>3783.0</td>\n",
       "      <td>98107</td>\n",
       "      <td>950000.0</td>\n",
       "      <td>47.6701</td>\n",
       "      <td>-122.3763</td>\n",
       "    </tr>\n",
       "    <tr>\n",
       "      <th>3</th>\n",
       "      <td>4</td>\n",
       "      <td>3.0</td>\n",
       "      <td>3800.0</td>\n",
       "      <td>5175.0</td>\n",
       "      <td>98199</td>\n",
       "      <td>1950000.0</td>\n",
       "      <td>47.6488</td>\n",
       "      <td>-122.3964</td>\n",
       "    </tr>\n",
       "    <tr>\n",
       "      <th>5</th>\n",
       "      <td>2</td>\n",
       "      <td>2.0</td>\n",
       "      <td>1190.0</td>\n",
       "      <td>43560.0</td>\n",
       "      <td>98107</td>\n",
       "      <td>740000.0</td>\n",
       "      <td>47.6701</td>\n",
       "      <td>-122.3763</td>\n",
       "    </tr>\n",
       "  </tbody>\n",
       "</table>\n",
       "</div>"
      ],
      "text/plain": [
       "   beds  baths    size  lot_size  zip_code      price      lat       lon\n",
       "0     3    2.5  2590.0    6000.0     98144   795000.0  47.5846 -122.3005\n",
       "1     4    2.0  2240.0   13503.6     98106   915000.0  47.5344 -122.3547\n",
       "2     4    3.0  2040.0    3783.0     98107   950000.0  47.6701 -122.3763\n",
       "3     4    3.0  3800.0    5175.0     98199  1950000.0  47.6488 -122.3964\n",
       "5     2    2.0  1190.0   43560.0     98107   740000.0  47.6701 -122.3763"
      ]
     },
     "execution_count": 20,
     "metadata": {},
     "output_type": "execute_result"
    }
   ],
   "source": [
    "train_file_final.head()"
   ]
  },
  {
   "cell_type": "code",
   "execution_count": 21,
   "metadata": {},
   "outputs": [
    {
     "data": {
      "text/html": [
       "<div>\n",
       "<style scoped>\n",
       "    .dataframe tbody tr th:only-of-type {\n",
       "        vertical-align: middle;\n",
       "    }\n",
       "\n",
       "    .dataframe tbody tr th {\n",
       "        vertical-align: top;\n",
       "    }\n",
       "\n",
       "    .dataframe thead th {\n",
       "        text-align: right;\n",
       "    }\n",
       "</style>\n",
       "<table border=\"1\" class=\"dataframe\">\n",
       "  <thead>\n",
       "    <tr style=\"text-align: right;\">\n",
       "      <th></th>\n",
       "      <th>beds</th>\n",
       "      <th>baths</th>\n",
       "      <th>size</th>\n",
       "      <th>lot_size</th>\n",
       "      <th>zip_code</th>\n",
       "    </tr>\n",
       "  </thead>\n",
       "  <tbody>\n",
       "    <tr>\n",
       "      <th>0</th>\n",
       "      <td>3</td>\n",
       "      <td>2.5</td>\n",
       "      <td>2590.0</td>\n",
       "      <td>6000.0</td>\n",
       "      <td>98144</td>\n",
       "    </tr>\n",
       "    <tr>\n",
       "      <th>1</th>\n",
       "      <td>4</td>\n",
       "      <td>2.0</td>\n",
       "      <td>2240.0</td>\n",
       "      <td>13503.6</td>\n",
       "      <td>98106</td>\n",
       "    </tr>\n",
       "    <tr>\n",
       "      <th>2</th>\n",
       "      <td>4</td>\n",
       "      <td>3.0</td>\n",
       "      <td>2040.0</td>\n",
       "      <td>3783.0</td>\n",
       "      <td>98107</td>\n",
       "    </tr>\n",
       "    <tr>\n",
       "      <th>3</th>\n",
       "      <td>4</td>\n",
       "      <td>3.0</td>\n",
       "      <td>3800.0</td>\n",
       "      <td>5175.0</td>\n",
       "      <td>98199</td>\n",
       "    </tr>\n",
       "    <tr>\n",
       "      <th>5</th>\n",
       "      <td>2</td>\n",
       "      <td>2.0</td>\n",
       "      <td>1190.0</td>\n",
       "      <td>43560.0</td>\n",
       "      <td>98107</td>\n",
       "    </tr>\n",
       "    <tr>\n",
       "      <th>...</th>\n",
       "      <td>...</td>\n",
       "      <td>...</td>\n",
       "      <td>...</td>\n",
       "      <td>...</td>\n",
       "      <td>...</td>\n",
       "    </tr>\n",
       "    <tr>\n",
       "      <th>2009</th>\n",
       "      <td>3</td>\n",
       "      <td>3.5</td>\n",
       "      <td>1680.0</td>\n",
       "      <td>1486.0</td>\n",
       "      <td>98126</td>\n",
       "    </tr>\n",
       "    <tr>\n",
       "      <th>2010</th>\n",
       "      <td>2</td>\n",
       "      <td>2.0</td>\n",
       "      <td>1400.0</td>\n",
       "      <td>14810.4</td>\n",
       "      <td>98199</td>\n",
       "    </tr>\n",
       "    <tr>\n",
       "      <th>2011</th>\n",
       "      <td>3</td>\n",
       "      <td>2.0</td>\n",
       "      <td>1370.0</td>\n",
       "      <td>21780.0</td>\n",
       "      <td>98112</td>\n",
       "    </tr>\n",
       "    <tr>\n",
       "      <th>2013</th>\n",
       "      <td>4</td>\n",
       "      <td>2.0</td>\n",
       "      <td>2140.0</td>\n",
       "      <td>6250.0</td>\n",
       "      <td>98199</td>\n",
       "    </tr>\n",
       "    <tr>\n",
       "      <th>2015</th>\n",
       "      <td>3</td>\n",
       "      <td>2.0</td>\n",
       "      <td>1710.0</td>\n",
       "      <td>4267.0</td>\n",
       "      <td>98133</td>\n",
       "    </tr>\n",
       "  </tbody>\n",
       "</table>\n",
       "<p>1669 rows × 5 columns</p>\n",
       "</div>"
      ],
      "text/plain": [
       "      beds  baths    size  lot_size  zip_code\n",
       "0        3    2.5  2590.0    6000.0     98144\n",
       "1        4    2.0  2240.0   13503.6     98106\n",
       "2        4    3.0  2040.0    3783.0     98107\n",
       "3        4    3.0  3800.0    5175.0     98199\n",
       "5        2    2.0  1190.0   43560.0     98107\n",
       "...    ...    ...     ...       ...       ...\n",
       "2009     3    3.5  1680.0    1486.0     98126\n",
       "2010     2    2.0  1400.0   14810.4     98199\n",
       "2011     3    2.0  1370.0   21780.0     98112\n",
       "2013     4    2.0  2140.0    6250.0     98199\n",
       "2015     3    2.0  1710.0    4267.0     98133\n",
       "\n",
       "[1669 rows x 5 columns]"
      ]
     },
     "execution_count": 21,
     "metadata": {},
     "output_type": "execute_result"
    }
   ],
   "source": [
    "# Define features and target variables\n",
    "X_train = train_file_final.drop(columns=['price','lat','lon'], axis=1)\n",
    "y_train = train_file_final['price']\n",
    "X_train"
   ]
  },
  {
   "cell_type": "code",
   "execution_count": 22,
   "metadata": {},
   "outputs": [
    {
     "data": {
      "text/plain": [
       "(1669,)"
      ]
     },
     "execution_count": 22,
     "metadata": {},
     "output_type": "execute_result"
    }
   ],
   "source": [
    "y_train.shape"
   ]
  },
  {
   "cell_type": "code",
   "execution_count": 23,
   "metadata": {},
   "outputs": [],
   "source": [
    "# Split train into train and test\n",
    "X_train, X_test, y_train, y_test = train_test_split(X_train, y_train, test_size = 0.3, random_state = 0)"
   ]
  },
  {
   "cell_type": "code",
   "execution_count": 53,
   "metadata": {},
   "outputs": [
    {
     "data": {
      "text/plain": [
       "((1168, 5), (1168,))"
      ]
     },
     "execution_count": 53,
     "metadata": {},
     "output_type": "execute_result"
    }
   ],
   "source": [
    "X_train.shape, y_train.shape"
   ]
  },
  {
   "cell_type": "code",
   "execution_count": 54,
   "metadata": {},
   "outputs": [
    {
     "data": {
      "text/plain": [
       "((501, 5), (501,))"
      ]
     },
     "execution_count": 54,
     "metadata": {},
     "output_type": "execute_result"
    }
   ],
   "source": [
    "X_test.shape, y_test.shape"
   ]
  },
  {
   "cell_type": "code",
   "execution_count": 55,
   "metadata": {},
   "outputs": [
    {
     "data": {
      "text/plain": [
       "LinearRegression()"
      ]
     },
     "execution_count": 55,
     "metadata": {},
     "output_type": "execute_result"
    }
   ],
   "source": [
    "# Fit the model\n",
    "model = LinearRegression()\n",
    "model.fit(X_train, y_train)"
   ]
  },
  {
   "cell_type": "code",
   "execution_count": 56,
   "metadata": {},
   "outputs": [
    {
     "name": "stdout",
     "output_type": "stream",
     "text": [
      "267605296.81371135\n"
     ]
    }
   ],
   "source": [
    "# Print y-intercept \n",
    "print(model.intercept_)"
   ]
  },
  {
   "cell_type": "code",
   "execution_count": 57,
   "metadata": {},
   "outputs": [
    {
     "name": "stdout",
     "output_type": "stream",
     "text": [
      "[-8.58136302e+04  6.70904886e+04  4.70180131e+02 -5.47413295e-02\n",
      " -2.72462647e+03]\n"
     ]
    }
   ],
   "source": [
    "# Print the beta coefficients \n",
    "print(model.coef_)"
   ]
  },
  {
   "cell_type": "code",
   "execution_count": 58,
   "metadata": {},
   "outputs": [],
   "source": [
    "feature_cols = [\"beds\",\"baths\",\"size\",\"lot_size\",\"zip_code\",\"lat\",\"lot\"]"
   ]
  },
  {
   "cell_type": "code",
   "execution_count": 59,
   "metadata": {},
   "outputs": [
    {
     "data": {
      "text/plain": [
       "[('zip_code', -2724.626474508367),\n",
       " ('size', 470.1801311306368),\n",
       " ('lot_size', -0.05474132952053746),\n",
       " ('beds', -85813.63022640503),\n",
       " ('baths', 67090.48863404784)]"
      ]
     },
     "execution_count": 59,
     "metadata": {},
     "output_type": "execute_result"
    }
   ],
   "source": [
    "# List the features sorted in descending order by feature importance\n",
    "sorted(zip(feature_cols, model.coef_), reverse=True)"
   ]
  },
  {
   "cell_type": "code",
   "execution_count": 60,
   "metadata": {},
   "outputs": [
    {
     "data": {
      "text/plain": [
       "(501,)"
      ]
     },
     "execution_count": 60,
     "metadata": {},
     "output_type": "execute_result"
    }
   ],
   "source": [
    "# Make predictions using the model\n",
    "y_pred = model.predict(X_test)\n",
    "y_pred.shape"
   ]
  },
  {
   "cell_type": "markdown",
   "metadata": {},
   "source": [
    "# Evaluate the Model"
   ]
  },
  {
   "cell_type": "code",
   "execution_count": 66,
   "metadata": {},
   "outputs": [
    {
     "data": {
      "text/plain": [
       "0.2144405341502379"
      ]
     },
     "execution_count": 66,
     "metadata": {},
     "output_type": "execute_result"
    }
   ],
   "source": [
    "#Check model score\n",
    "linear_score_train = model.score(X_train, y_train)\n",
    "linear_score_train"
   ]
  },
  {
   "cell_type": "code",
   "execution_count": 67,
   "metadata": {},
   "outputs": [
    {
     "data": {
      "text/plain": [
       "0.127289561601874"
      ]
     },
     "execution_count": 67,
     "metadata": {},
     "output_type": "execute_result"
    }
   ],
   "source": [
    "linear_score_test = model.score(X_test, y_test)\n",
    "linear_score_test"
   ]
  },
  {
   "cell_type": "code",
   "execution_count": 68,
   "metadata": {},
   "outputs": [
    {
     "data": {
      "text/plain": [
       "306819.7701578537"
      ]
     },
     "execution_count": 68,
     "metadata": {},
     "output_type": "execute_result"
    }
   ],
   "source": [
    "# Print mean absolute error\n",
    "metrics.mean_absolute_error(y_test, y_pred)"
   ]
  },
  {
   "cell_type": "code",
   "execution_count": 69,
   "metadata": {},
   "outputs": [
    {
     "data": {
      "text/plain": [
       "1312609928647.139"
      ]
     },
     "execution_count": 69,
     "metadata": {},
     "output_type": "execute_result"
    }
   ],
   "source": [
    "# Print Mean squared error\n",
    "metrics.mean_squared_error(y_test, y_pred)"
   ]
  },
  {
   "cell_type": "code",
   "execution_count": 70,
   "metadata": {},
   "outputs": [
    {
     "data": {
      "text/plain": [
       "553.9131431531966"
      ]
     },
     "execution_count": 70,
     "metadata": {},
     "output_type": "execute_result"
    }
   ],
   "source": [
    "# Print root mean squared error\n",
    "np.sqrt(metrics.mean_absolute_error(y_test, y_pred))"
   ]
  },
  {
   "cell_type": "code",
   "execution_count": 34,
   "metadata": {},
   "outputs": [
    {
     "data": {
      "image/png": "[encoded data removed]",
      "text/plain": [
       "<Figure size 432x288 with 2 Axes>"
      ]
     },
     "metadata": {
      "needs_background": "light"
     },
     "output_type": "display_data"
    }
   ],
   "source": [
    "# Using seaborn for heatmap\n",
    "heatmap = sns.heatmap(test_file_final.corr(), cmap=\"Reds\", annot=True)     \n",
    "plt.show()"
   ]
  },
  {
   "cell_type": "code",
   "execution_count": 35,
   "metadata": {
    "scrolled": true
   },
   "outputs": [
    {
     "data": {
      "image/png": "[encoded data removed]",
      "text/plain": [
       "<Figure size 952x180 with 5 Axes>"
      ]
     },
     "metadata": {
      "needs_background": "light"
     },
     "output_type": "display_data"
    }
   ],
   "source": [
    "#pairplot = sns.load_dataset(\"model\")\n",
    "#sns.pairplot(pairplot)\n",
    "y = pd.Series(y_pred, name='price')\n",
    "sns.pairplot(test_file_final, x_vars=X_test.columns, y_vars=y_test.name, hue=\"price\", palette=\"Spectral\")\n",
    "plt.show()"
   ]
  },
  {
   "cell_type": "code",
   "execution_count": 36,
   "metadata": {},
   "outputs": [
    {
     "data": {
      "text/plain": [
       "<function matplotlib.pyplot.show(close=None, block=None)>"
      ]
     },
     "execution_count": 36,
     "metadata": {},
     "output_type": "execute_result"
    },
    {
     "data": {
      "image/png": "[encoded data removed]",
      "text/plain": [
       "<Figure size 1440x1440 with 72 Axes>"
      ]
     },
     "metadata": {
      "needs_background": "light"
     },
     "output_type": "display_data"
    }
   ],
   "source": [
    "#Testing out visualizations to establish patterns between features\n",
    "sns.pairplot(test_file_final, palette=\"husl\", diag_kind=\"kde\")\n",
    "plt.show"
   ]
  },
  {
   "cell_type": "code",
   "execution_count": 37,
   "metadata": {},
   "outputs": [
    {
     "data": {
      "text/plain": [
       "<function matplotlib.pyplot.show(close=None, block=None)>"
      ]
     },
     "execution_count": 37,
     "metadata": {},
     "output_type": "execute_result"
    },
    {
     "data": {
      "image/png": "[encoded data removed]",
      "text/plain": [
       "<Figure size 1852x360 with 5 Axes>"
      ]
     },
     "metadata": {
      "needs_background": "light"
     },
     "output_type": "display_data"
    }
   ],
   "source": [
    "sns.pairplot(test_file_final, hue=\"price\", palette=\"flare\", height=5,  size=5, markers=\"D\",\n",
    "\n",
    "x_vars=[\"beds\",\"baths\",\"size\",\"lot_size\",\"zip_code\"],\n",
    "y_vars=[\"price\"])\n",
    "\n",
    "plt.show"
   ]
  },
  {
   "cell_type": "code",
   "execution_count": 38,
   "metadata": {},
   "outputs": [
    {
     "data": {
      "text/plain": [
       "<seaborn.axisgrid.JointGrid at 0x7fec4e3250a0>"
      ]
     },
     "execution_count": 38,
     "metadata": {},
     "output_type": "execute_result"
    },
    {
     "data": {
      "image/png": "[encoded data removed]",
      "text/plain": [
       "<Figure size 432x432 with 3 Axes>"
      ]
     },
     "metadata": {
      "needs_background": "light"
     },
     "output_type": "display_data"
    }
   ],
   "source": [
    "sns.jointplot(data=test_file_updated, x=\"zip_code\", y=\"size\", kind=\"hex\", color=\"pink\")"
   ]
  },
  {
   "cell_type": "code",
   "execution_count": 39,
   "metadata": {},
   "outputs": [
    {
     "data": {
      "text/plain": [
       "<seaborn.axisgrid.JointGrid at 0x7fec4d0750d0>"
      ]
     },
     "execution_count": 39,
     "metadata": {},
     "output_type": "execute_result"
    },
    {
     "data": {
      "image/png": "[encoded data removed]",
      "text/plain": [
       "<Figure size 432x432 with 3 Axes>"
      ]
     },
     "metadata": {
      "needs_background": "light"
     },
     "output_type": "display_data"
    }
   ],
   "source": [
    "sns.jointplot(data=test_file_updated, x=\"beds\", y=\"size\", kind=\"reg\", color=\"orchid\")"
   ]
  },
  {
   "cell_type": "markdown",
   "metadata": {},
   "source": [
    "Random Forest Regressor"
   ]
  },
  {
   "cell_type": "code",
   "execution_count": 40,
   "metadata": {},
   "outputs": [],
   "source": [
    "# Define the features\n",
    "X = train_file_final.drop(columns=['price','lat','lon'], axis=1)\n",
    "y = train_file_final['price']"
   ]
  },
  {
   "cell_type": "code",
   "execution_count": 71,
   "metadata": {},
   "outputs": [],
   "source": [
    "# Use label encoder to transform zipcode variables\n",
    "label_encoder_zip_code = LabelEncoder()"
   ]
  },
  {
   "cell_type": "code",
   "execution_count": 75,
   "metadata": {},
   "outputs": [],
   "source": [
    "X[\"zip_code\"] = label_encoder_zip_code.fit_transform(X[\"zip_code\"])"
   ]
  },
  {
   "cell_type": "code",
   "execution_count": 80,
   "metadata": {},
   "outputs": [],
   "source": [
    "# Split the dataset\n",
    "X_train2, X_test2, y_train2, y_test2 = train_test_split(X, y, test_size = 0.3, random_state = 0)"
   ]
  },
  {
   "cell_type": "code",
   "execution_count": 82,
   "metadata": {},
   "outputs": [],
   "source": [
    "# Scale the data\n",
    "scaler = StandardScaler()\n",
    "X_scaled = scaler.fit_transform(X_train2)\n",
    "y_scaled = scaler.fit_transform(y_train2.values.reshape(-1,1))\n",
    "X_test_scaled = scaler.fit_transform(X_test2)\n",
    "y_test_scaled = scaler.fit_transform(y_test2.values.reshape(-1,1))"
   ]
  },
  {
   "cell_type": "code",
   "execution_count": 83,
   "metadata": {},
   "outputs": [],
   "source": [
    "# Create regressor object\n",
    "regressor = RandomForestRegressor(n_estimators = 100, random_state=0)"
   ]
  },
  {
   "cell_type": "code",
   "execution_count": 84,
   "metadata": {},
   "outputs": [
    {
     "data": {
      "text/plain": [
       "RandomForestRegressor(random_state=0)"
      ]
     },
     "execution_count": 84,
     "metadata": {},
     "output_type": "execute_result"
    }
   ],
   "source": [
    "# Fit the model\n",
    "regressor.fit(X_scaled, y_scaled)"
   ]
  },
  {
   "cell_type": "code",
   "execution_count": 85,
   "metadata": {},
   "outputs": [
    {
     "data": {
      "text/plain": [
       "(501,)"
      ]
     },
     "execution_count": 85,
     "metadata": {},
     "output_type": "execute_result"
    }
   ],
   "source": [
    "# make predictions using the data\n",
    "pred = regressor.predict(X_test_scaled).round()\n",
    "pred.shape"
   ]
  },
  {
   "cell_type": "code",
   "execution_count": 89,
   "metadata": {},
   "outputs": [
    {
     "data": {
      "text/plain": [
       "-7.161259988562774e+16"
      ]
     },
     "execution_count": 89,
     "metadata": {},
     "output_type": "execute_result"
    }
   ],
   "source": [
    "#Check model score\n",
    "l_score_train = model.score(X_scaled, y_scaled)\n",
    "l_score_train"
   ]
  },
  {
   "cell_type": "code",
   "execution_count": 97,
   "metadata": {},
   "outputs": [
    {
     "data": {
      "text/plain": [
       "-7.16126000177706e+16"
      ]
     },
     "execution_count": 97,
     "metadata": {},
     "output_type": "execute_result"
    }
   ],
   "source": [
    "#Check model score\n",
    "l_score_test = model.score(X_test_scaled, y_test_scaled)\n",
    "l_score_test"
   ]
  },
  {
   "cell_type": "code",
   "execution_count": 86,
   "metadata": {},
   "outputs": [
    {
     "data": {
      "text/plain": [
       "1068158.5688622755"
      ]
     },
     "execution_count": 86,
     "metadata": {},
     "output_type": "execute_result"
    }
   ],
   "source": [
    "# Print mean absolute error\n",
    "metrics.mean_absolute_error(y_test2, pred)"
   ]
  },
  {
   "cell_type": "code",
   "execution_count": 87,
   "metadata": {},
   "outputs": [
    {
     "data": {
      "text/plain": [
       "1068158.5688622755"
      ]
     },
     "execution_count": 87,
     "metadata": {},
     "output_type": "execute_result"
    }
   ],
   "source": [
    "# Print mean absolute error\n",
    "metrics.mean_absolute_error(y_test2, pred)"
   ]
  },
  {
   "cell_type": "code",
   "execution_count": 88,
   "metadata": {},
   "outputs": [
    {
     "data": {
      "text/plain": [
       "1033.5175706596747"
      ]
     },
     "execution_count": 88,
     "metadata": {},
     "output_type": "execute_result"
    }
   ],
   "source": [
    "# Print root mean squared error\n",
    "np.sqrt(metrics.mean_absolute_error(y_test2, pred))"
   ]
  },
  {
   "cell_type": "markdown",
   "metadata": {},
   "source": [
    "## Test Models"
   ]
  },
  {
   "cell_type": "markdown",
   "metadata": {},
   "source": [
    "Linear Regression with scaled data\n"
   ]
  },
  {
   "cell_type": "code",
   "execution_count": 93,
   "metadata": {},
   "outputs": [
    {
     "data": {
      "text/plain": [
       "LinearRegression()"
      ]
     },
     "execution_count": 93,
     "metadata": {},
     "output_type": "execute_result"
    }
   ],
   "source": [
    "# Fit the model\n",
    "model2 = LinearRegression()\n",
    "model2.fit(X_scaled, y_scaled)"
   ]
  },
  {
   "cell_type": "code",
   "execution_count": 94,
   "metadata": {},
   "outputs": [
    {
     "name": "stdout",
     "output_type": "stream",
     "text": [
      "[-3.38598645e-17]\n"
     ]
    }
   ],
   "source": [
    "# Print y-intercept \n",
    "print(model2.intercept_)"
   ]
  },
  {
   "cell_type": "code",
   "execution_count": 95,
   "metadata": {},
   "outputs": [
    {
     "name": "stdout",
     "output_type": "stream",
     "text": [
      "[[-0.10541469  0.07102581  0.4848983  -0.00989432 -0.10242374]]\n"
     ]
    }
   ],
   "source": [
    "# Print the beta coefficients \n",
    "print(model2.coef_)"
   ]
  },
  {
   "cell_type": "code",
   "execution_count": 98,
   "metadata": {},
   "outputs": [
    {
     "data": {
      "text/plain": [
       "(501, 1)"
      ]
     },
     "execution_count": 98,
     "metadata": {},
     "output_type": "execute_result"
    }
   ],
   "source": [
    "# Make predictions using the model\n",
    "y_pred2 = model2.predict(X_test_scaled)\n",
    "y_pred2.shape"
   ]
  },
  {
   "cell_type": "code",
   "execution_count": 99,
   "metadata": {},
   "outputs": [
    {
     "data": {
      "text/plain": [
       "0.21996854427061385"
      ]
     },
     "execution_count": 99,
     "metadata": {},
     "output_type": "execute_result"
    }
   ],
   "source": [
    "score_train = model2.score(X_scaled, y_scaled)\n",
    "score_train"
   ]
  },
  {
   "cell_type": "code",
   "execution_count": 106,
   "metadata": {},
   "outputs": [
    {
     "data": {
      "text/plain": [
       "-0.7572114441565654"
      ]
     },
     "execution_count": 106,
     "metadata": {},
     "output_type": "execute_result"
    }
   ],
   "source": [
    "score_test = model2.score(X_test2, y_test2)\n",
    "score_test"
   ]
  },
  {
   "cell_type": "code",
   "execution_count": 100,
   "metadata": {},
   "outputs": [
    {
     "data": {
      "text/plain": [
       "1068158.6666666667"
      ]
     },
     "execution_count": 100,
     "metadata": {},
     "output_type": "execute_result"
    }
   ],
   "source": [
    "# Print mean absolute error\n",
    "metrics.mean_absolute_error(y_test2, y_pred2)"
   ]
  },
  {
   "cell_type": "code",
   "execution_count": 101,
   "metadata": {},
   "outputs": [
    {
     "data": {
      "text/plain": [
       "2645023731684.4756"
      ]
     },
     "execution_count": 101,
     "metadata": {},
     "output_type": "execute_result"
    }
   ],
   "source": [
    "# Print Mean squared error\n",
    "metrics.mean_squared_error(y_test2, y_pred2)"
   ]
  },
  {
   "cell_type": "code",
   "execution_count": 102,
   "metadata": {},
   "outputs": [
    {
     "data": {
      "text/plain": [
       "1033.5176179759428"
      ]
     },
     "execution_count": 102,
     "metadata": {},
     "output_type": "execute_result"
    }
   ],
   "source": [
    "# Print root mean squared error\n",
    "np.sqrt(metrics.mean_absolute_error(y_test2, y_pred2))"
   ]
  },
  {
   "cell_type": "markdown",
   "metadata": {},
   "source": [
    "# KNN model normal"
   ]
  },
  {
   "cell_type": "code",
   "execution_count": 103,
   "metadata": {},
   "outputs": [],
   "source": [
    "neigh = KNeighborsRegressor()"
   ]
  },
  {
   "cell_type": "code",
   "execution_count": 104,
   "metadata": {},
   "outputs": [
    {
     "data": {
      "text/plain": [
       "KNeighborsRegressor()"
      ]
     },
     "execution_count": 104,
     "metadata": {},
     "output_type": "execute_result"
    }
   ],
   "source": [
    "neigh.fit(X_train, y_train)"
   ]
  },
  {
   "cell_type": "code",
   "execution_count": 105,
   "metadata": {},
   "outputs": [],
   "source": [
    "pred3 = neigh.predict(X_test).round()\n"
   ]
  },
  {
   "cell_type": "code",
   "execution_count": 107,
   "metadata": {},
   "outputs": [
    {
     "data": {
      "text/plain": [
       "0.40682390866054785"
      ]
     },
     "execution_count": 107,
     "metadata": {},
     "output_type": "execute_result"
    }
   ],
   "source": [
    "# Score the model\n",
    "k_score = neigh.score(X_train, y_train)\n",
    "k_score"
   ]
  },
  {
   "cell_type": "code",
   "execution_count": 108,
   "metadata": {},
   "outputs": [
    {
     "data": {
      "text/plain": [
       "-0.015827062186352547"
      ]
     },
     "execution_count": 108,
     "metadata": {},
     "output_type": "execute_result"
    }
   ],
   "source": [
    "k_score_test = neigh.score(X_test, y_test)\n",
    "k_score_test"
   ]
  },
  {
   "cell_type": "code",
   "execution_count": 109,
   "metadata": {},
   "outputs": [
    {
     "data": {
      "text/plain": [
       "348124.5189620759"
      ]
     },
     "execution_count": 109,
     "metadata": {},
     "output_type": "execute_result"
    }
   ],
   "source": [
    "metrics.mean_absolute_error(y_test, pred3)"
   ]
  },
  {
   "cell_type": "code",
   "execution_count": 111,
   "metadata": {},
   "outputs": [
    {
     "data": {
      "text/plain": [
       "1527866093226.6067"
      ]
     },
     "execution_count": 111,
     "metadata": {},
     "output_type": "execute_result"
    }
   ],
   "source": [
    "# Print Mean squared error\n",
    "metrics.mean_squared_error(y_test, pred3)"
   ]
  },
  {
   "cell_type": "code",
   "execution_count": 110,
   "metadata": {},
   "outputs": [
    {
     "data": {
      "text/plain": [
       "590.0207784155367"
      ]
     },
     "execution_count": 110,
     "metadata": {},
     "output_type": "execute_result"
    }
   ],
   "source": [
    "# Print root mean squared error\n",
    "np.sqrt(metrics.mean_absolute_error(y_test, pred3))"
   ]
  },
  {
   "cell_type": "markdown",
   "metadata": {},
   "source": [
    "## KNN model with scaled data"
   ]
  },
  {
   "cell_type": "markdown",
   "metadata": {},
   "source": [
    "scaler = StandardScaler()\n",
    "X_scaled = scaler.fit_transform(X_train2)\n",
    "y_scaled = scaler.fit_transform(y_train2.values.reshape(-1,1))\n",
    "X_test_scaled = scaler.fit_transform(X_test2)\n",
    "y_test_scaled = scaler.fit_transform(y_test2.values.reshape(-1,1))"
   ]
  },
  {
   "cell_type": "code",
   "execution_count": 112,
   "metadata": {},
   "outputs": [
    {
     "data": {
      "text/plain": [
       "KNeighborsRegressor()"
      ]
     },
     "execution_count": 112,
     "metadata": {},
     "output_type": "execute_result"
    }
   ],
   "source": [
    "neigh.fit(X_scaled, y_scaled)"
   ]
  },
  {
   "cell_type": "code",
   "execution_count": 113,
   "metadata": {},
   "outputs": [],
   "source": [
    "pred4 = neigh.predict(X_test_scaled).round()\n"
   ]
  },
  {
   "cell_type": "code",
   "execution_count": 115,
   "metadata": {},
   "outputs": [
    {
     "data": {
      "text/plain": [
       "0.3203063757693695"
      ]
     },
     "execution_count": 115,
     "metadata": {},
     "output_type": "execute_result"
    }
   ],
   "source": [
    "# Score the model\n",
    "k_score2 = neigh.score(X_scaled, y_scaled)\n",
    "k_score2"
   ]
  },
  {
   "cell_type": "code",
   "execution_count": 117,
   "metadata": {},
   "outputs": [
    {
     "data": {
      "text/plain": [
       "-0.46838472695539535"
      ]
     },
     "execution_count": 117,
     "metadata": {},
     "output_type": "execute_result"
    }
   ],
   "source": [
    "# Score the model\n",
    "k_score_test2 = neigh.score(X_test_scaled, y_test_scaled)\n",
    "k_score_test2"
   ]
  },
  {
   "cell_type": "code",
   "execution_count": 118,
   "metadata": {},
   "outputs": [
    {
     "data": {
      "text/plain": [
       "0.47246889178351414"
      ]
     },
     "execution_count": 118,
     "metadata": {},
     "output_type": "execute_result"
    }
   ],
   "source": [
    "metrics.mean_absolute_error(y_test_scaled, pred4)"
   ]
  },
  {
   "cell_type": "code",
   "execution_count": 119,
   "metadata": {},
   "outputs": [
    {
     "data": {
      "text/plain": [
       "1.5067028559944828"
      ]
     },
     "execution_count": 119,
     "metadata": {},
     "output_type": "execute_result"
    }
   ],
   "source": [
    "# Print Mean squared error\n",
    "metrics.mean_squared_error(y_test_scaled, pred4)"
   ]
  },
  {
   "cell_type": "code",
   "execution_count": 120,
   "metadata": {},
   "outputs": [
    {
     "data": {
      "text/plain": [
       "0.6873637259730209"
      ]
     },
     "execution_count": 120,
     "metadata": {},
     "output_type": "execute_result"
    }
   ],
   "source": [
    "# Print root mean squared error\n",
    "np.sqrt(metrics.mean_absolute_error(y_test_scaled, pred4))"
   ]
  },
  {
   "cell_type": "code",
   "execution_count": null,
   "metadata": {},
   "outputs": [],
   "source": []
  }
 ],
 "metadata": {
  "kernelspec": {
   "display_name": "mlenv",
   "language": "python",
   "name": "mlenv"
  },
  "language_info": {
   "codemirror_mode": {
    "name": "ipython",
    "version": 3
   },
   "file_extension": ".py",
   "mimetype": "text/x-python",
   "name": "python",
   "nbconvert_exporter": "python",
   "pygments_lexer": "ipython3",
   "version": "3.9.12"
  }
 },
 "nbformat": 4,
 "nbformat_minor": 2
}
